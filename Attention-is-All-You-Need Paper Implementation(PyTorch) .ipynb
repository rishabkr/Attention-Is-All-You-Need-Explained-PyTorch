{
 "cells": [
  {
   "cell_type": "markdown",
   "metadata": {},
   "source": [
    "Paper link : https://arxiv.org/abs/1706.03762  <br>\n",
    "Special thanks to BenTrevett and <a href = \"https://jalammar.github.io/\"> Jay Alammar </a>"
   ]
  },
  {
   "cell_type": "markdown",
   "metadata": {},
   "source": [
    "<h1> Translating german to english </h1>"
   ]
  },
  {
   "cell_type": "code",
   "execution_count": 1,
   "metadata": {},
   "outputs": [],
   "source": [
    "#to define the models\n",
    "import torch\n",
    "import torch.nn as nn\n",
    "import torch.optim as optim\n",
    "\n",
    "#to load,iterate and process the dataset\n",
    "import torchtext\n",
    "from torchtext.datasets import Multi30k\n",
    "from torchtext.data.metrics import bleu_score\n",
    "from torchtext.data import Field,BucketIterator\n",
    "\n",
    "#to visualize loss plots on localhost while training\n",
    "# See https://pytorch.org/docs/stable/tensorboard.html for more details\n",
    "from torch.utils.tensorboard import SummaryWriter"
   ]
  },
  {
   "cell_type": "code",
   "execution_count": 2,
   "metadata": {},
   "outputs": [],
   "source": [
    "#miscallaneous imports\n",
    "\n",
    "import math\n",
    "import spacy\n",
    "import random\n",
    "import numpy as np\n",
    "from time import time\n",
    "\n",
    "\n",
    "from tqdm.notebook import tqdm\n",
    "\n",
    "import seaborn as sns\n",
    "import matplotlib.pyplot as plt\n",
    "import matplotlib.ticker as ticker\n",
    "\n",
    "sns.set()"
   ]
  },
  {
   "cell_type": "code",
   "execution_count": 3,
   "metadata": {},
   "outputs": [
    {
     "name": "stdout",
     "output_type": "stream",
     "text": [
      "Current Device: cuda:0\n",
      "NVIDIA GeForce RTX 2060\n",
      "Total GPU Memory 6442450944 B , Cached GPU Memory 0 B, Allocated GPU Memory 0 B\n"
     ]
    }
   ],
   "source": [
    "# get GPU details if available\n",
    "\n",
    "def get_gpu_details():\n",
    "    t = torch.cuda.get_device_properties(0).total_memory\n",
    "    c = torch.cuda.memory_cached(0)\n",
    "    a = torch.cuda.memory_allocated(0)\n",
    "    print(torch.cuda.get_device_name())\n",
    "    print(f'Total GPU Memory {t} B , Cached GPU Memory {c} B, Allocated GPU Memory {a} B')\n",
    "    \n",
    "    \n",
    "    \n",
    "if torch.cuda.is_available():\n",
    "    device='cuda:0'\n",
    "else:\n",
    "    device='cpu'\n",
    "print(f'Current Device: {device}')\n",
    "if device=='cuda:0':\n",
    "    torch.cuda.empty_cache()\n",
    "    get_gpu_details()"
   ]
  },
  {
   "cell_type": "code",
   "execution_count": 4,
   "metadata": {},
   "outputs": [],
   "source": [
    "batch_size = 128\n",
    "\n",
    "\n",
    "SEED = 1234\n",
    "random.seed(SEED)\n",
    "np.random.seed(SEED)\n",
    "torch.manual_seed(SEED)\n",
    "torch.cuda.manual_seed(SEED)\n",
    "torch.backends.cudnn.deterministic = True"
   ]
  },
  {
   "cell_type": "code",
   "execution_count": 5,
   "metadata": {},
   "outputs": [],
   "source": [
    "spacy_english = spacy.load('en')\n",
    "spacy_german = spacy.load('de_core_news_sm')"
   ]
  },
  {
   "cell_type": "code",
   "execution_count": 6,
   "metadata": {},
   "outputs": [],
   "source": [
    "def tokenize_english(eng_text):\n",
    "    return [token.text for token in spacy_english.tokenizer(eng_text)]\n",
    "\n",
    "def tokenize_german(german_text):\n",
    "    return [token.text for token in spacy_german.tokenizer(german_text)]"
   ]
  },
  {
   "cell_type": "code",
   "execution_count": 7,
   "metadata": {},
   "outputs": [
    {
     "data": {
      "text/plain": [
       "['Lets', 'play', 'a', 'game', '!', '!']"
      ]
     },
     "execution_count": 7,
     "metadata": {},
     "output_type": "execute_result"
    }
   ],
   "source": [
    "tokenize_english('Lets play a game!!')"
   ]
  },
  {
   "cell_type": "code",
   "execution_count": 8,
   "metadata": {},
   "outputs": [
    {
     "data": {
      "text/plain": [
       "['Lassen', 'Sie', 'uns', 'ein', 'Spiel', 'spielen']"
      ]
     },
     "execution_count": 8,
     "metadata": {},
     "output_type": "execute_result"
    }
   ],
   "source": [
    "tokenize_german('Lassen Sie uns ein Spiel spielen')"
   ]
  },
  {
   "cell_type": "markdown",
   "metadata": {},
   "source": [
    "Create text processing pipelines, first channel of the input to the model will be batch, so set batch_first = True"
   ]
  },
  {
   "cell_type": "code",
   "execution_count": 9,
   "metadata": {},
   "outputs": [],
   "source": [
    "source_process_pipeline = Field(tokenize = tokenize_german,\n",
    "                       init_token = '<sos>',\n",
    "                       eos_token = '<eos>',\n",
    "                       lower = True,\n",
    "                       batch_first = True)\n",
    "\n",
    "\n",
    "target_process_pipeline = Field(tokenize = tokenize_english,\n",
    "                       init_token = '<sos>',\n",
    "                       eos_token = '<eos>',\n",
    "                       lower = True,\n",
    "                       batch_first = True)"
   ]
  },
  {
   "cell_type": "markdown",
   "metadata": {},
   "source": [
    "Load the dataset and split into train,test and validation <br>\n",
    "Refer the below link for more details <br>\n",
    "https://torchtext.readthedocs.io/en/latest/datasets.html#multi30k <br>\n",
    "https://pytorchnlp.readthedocs.io/en/latest/_modules/torchnlp/datasets/multi30k.html \n"
   ]
  },
  {
   "cell_type": "code",
   "execution_count": 10,
   "metadata": {},
   "outputs": [],
   "source": [
    "train_data,validation_data,test_data = Multi30k.splits(exts = ('.de','.en'),\n",
    "                                                       fields = (source_process_pipeline,\n",
    "                                                                target_process_pipeline))"
   ]
  },
  {
   "cell_type": "code",
   "execution_count": 11,
   "metadata": {},
   "outputs": [
    {
     "data": {
      "text/plain": [
       "{'src': <torchtext.data.field.Field at 0x1f1b09469c8>,\n",
       " 'trg': <torchtext.data.field.Field at 0x1f1b0946d08>}"
      ]
     },
     "execution_count": 11,
     "metadata": {},
     "output_type": "execute_result"
    }
   ],
   "source": [
    "train_data.fields"
   ]
  },
  {
   "cell_type": "markdown",
   "metadata": {},
   "source": [
    "Build the vocabulary"
   ]
  },
  {
   "cell_type": "code",
   "execution_count": 12,
   "metadata": {},
   "outputs": [],
   "source": [
    "source_process_pipeline.build_vocab(train_data,min_freq=2)\n",
    "target_process_pipeline.build_vocab(train_data,min_freq=2)"
   ]
  },
  {
   "cell_type": "code",
   "execution_count": 13,
   "metadata": {},
   "outputs": [
    {
     "data": {
      "text/plain": [
       "7854"
      ]
     },
     "execution_count": 13,
     "metadata": {},
     "output_type": "execute_result"
    }
   ],
   "source": [
    "len(source_process_pipeline.vocab)"
   ]
  },
  {
   "cell_type": "code",
   "execution_count": 14,
   "metadata": {},
   "outputs": [
    {
     "data": {
      "text/plain": [
       "5893"
      ]
     },
     "execution_count": 14,
     "metadata": {},
     "output_type": "execute_result"
    }
   ],
   "source": [
    "len(target_process_pipeline.vocab)"
   ]
  },
  {
   "cell_type": "markdown",
   "metadata": {},
   "source": [
    "Token indices for both source and target begin from 0 for each token."
   ]
  },
  {
   "cell_type": "code",
   "execution_count": 15,
   "metadata": {},
   "outputs": [
    {
     "data": {
      "text/plain": [
       "[('<unk>', 0),\n",
       " ('<pad>', 1),\n",
       " ('<sos>', 2),\n",
       " ('<eos>', 3),\n",
       " ('.', 4),\n",
       " ('ein', 5),\n",
       " ('einem', 6),\n",
       " ('in', 7),\n",
       " ('eine', 8),\n",
       " (',', 9),\n",
       " ('und', 10),\n",
       " ('mit', 11),\n",
       " ('auf', 12),\n",
       " ('mann', 13),\n",
       " ('einer', 14),\n",
       " ('der', 15),\n",
       " ('frau', 16),\n",
       " ('die', 17),\n",
       " ('zwei', 18),\n",
       " ('einen', 19),\n",
       " ('im', 20),\n",
       " ('an', 21),\n",
       " ('von', 22),\n",
       " ('sich', 23),\n",
       " ('dem', 24),\n",
       " ('mädchen', 25),\n",
       " ('junge', 26),\n",
       " ('vor', 27),\n",
       " ('zu', 28),\n",
       " ('steht', 29),\n",
       " ('männer', 30),\n",
       " ('sitzt', 31),\n",
       " ('hund', 32),\n",
       " ('den', 33),\n",
       " ('straße', 34),\n",
       " ('während', 35),\n",
       " ('gruppe', 36),\n",
       " ('hält', 37),\n",
       " ('spielt', 38),\n",
       " ('das', 39),\n",
       " ('hemd', 40),\n",
       " ('personen', 41),\n",
       " ('über', 42),\n",
       " ('drei', 43),\n",
       " ('eines', 44),\n",
       " ('frauen', 45),\n",
       " ('blauen', 46),\n",
       " ('neben', 47),\n",
       " ('ist', 48),\n",
       " ('kind', 49)]"
      ]
     },
     "execution_count": 15,
     "metadata": {},
     "output_type": "execute_result"
    }
   ],
   "source": [
    "list(source_process_pipeline.vocab.stoi.items())[:50]"
   ]
  },
  {
   "cell_type": "code",
   "execution_count": 16,
   "metadata": {},
   "outputs": [
    {
     "data": {
      "text/plain": [
       "[('<unk>', 0),\n",
       " ('<pad>', 1),\n",
       " ('<sos>', 2),\n",
       " ('<eos>', 3),\n",
       " ('a', 4),\n",
       " ('.', 5),\n",
       " ('in', 6),\n",
       " ('the', 7),\n",
       " ('on', 8),\n",
       " ('man', 9),\n",
       " ('is', 10),\n",
       " ('and', 11),\n",
       " ('of', 12),\n",
       " ('with', 13),\n",
       " ('woman', 14),\n",
       " (',', 15),\n",
       " ('two', 16),\n",
       " ('are', 17),\n",
       " ('to', 18),\n",
       " ('people', 19),\n",
       " ('at', 20),\n",
       " ('an', 21),\n",
       " ('wearing', 22),\n",
       " ('shirt', 23),\n",
       " ('young', 24),\n",
       " ('white', 25),\n",
       " ('black', 26),\n",
       " ('his', 27),\n",
       " ('while', 28),\n",
       " ('blue', 29),\n",
       " ('men', 30),\n",
       " ('red', 31),\n",
       " ('sitting', 32),\n",
       " ('girl', 33),\n",
       " ('boy', 34),\n",
       " ('dog', 35),\n",
       " ('standing', 36),\n",
       " ('playing', 37),\n",
       " ('group', 38),\n",
       " ('street', 39),\n",
       " ('down', 40),\n",
       " ('walking', 41),\n",
       " ('-', 42),\n",
       " ('front', 43),\n",
       " ('her', 44),\n",
       " ('holding', 45),\n",
       " ('one', 46),\n",
       " ('water', 47),\n",
       " ('three', 48),\n",
       " ('by', 49)]"
      ]
     },
     "execution_count": 16,
     "metadata": {},
     "output_type": "execute_result"
    }
   ],
   "source": [
    "list(target_process_pipeline.vocab.stoi.items())[:50]"
   ]
  },
  {
   "cell_type": "markdown",
   "metadata": {},
   "source": [
    "<h1>Define the iterator</h1>\n",
    "\n",
    "<b>BucketIterator</b>: <br>\n",
    "Defines an iterator that batches examples of similar lengths together.\n",
    "\n",
    "Minimizes amount of padding needed while producing freshly shuffled batches for each new epoch. See pool for the bucketing procedure used.\n",
    "<br><br>\n",
    "refer:\n",
    "https://torchtext.readthedocs.io/en/latest/data.html#bucketiterator"
   ]
  },
  {
   "cell_type": "code",
   "execution_count": 17,
   "metadata": {},
   "outputs": [],
   "source": [
    "train_iterator, validation_iterator, test_iterator = BucketIterator.splits(\n",
    "    (train_data, validation_data, test_data), \n",
    "     batch_size = batch_size,\n",
    "     device = device)"
   ]
  },
  {
   "cell_type": "code",
   "execution_count": 18,
   "metadata": {},
   "outputs": [
    {
     "name": "stdout",
     "output_type": "stream",
     "text": [
      "\n",
      "[torchtext.data.batch.Batch of size 128 from MULTI30K]\n",
      "\t[.src]:[torch.cuda.LongTensor of size 128x23 (GPU 0)]\n",
      "\t[.trg]:[torch.cuda.LongTensor of size 128x21 (GPU 0)]\n"
     ]
    }
   ],
   "source": [
    "print(next(iter(train_iterator)))"
   ]
  },
  {
   "cell_type": "markdown",
   "metadata": {},
   "source": [
    "# Build the transformer model"
   ]
  },
  {
   "cell_type": "markdown",
   "metadata": {},
   "source": [
    "The Transformer's encoder does not attempt to compress the entire source sentence, $X = (x_1, ... ,x_n)$, into a single context vector, $z$. Instead it produces a sequence of context vectors, $Z = (z_1, ... , z_n)$. So, if our input sequence was 5 tokens long we would have $Z = (z_1, z_2, z_3, z_4, z_5)$. Why do we call this a sequence of context vectors and not a sequence of hidden states? A hidden state at time $t$ in an RNN has only seen tokens $x_t$ and all the tokens before it. However, each context vector here has seen all tokens at all positions within the input sequence."
   ]
  },
  {
   "cell_type": "markdown",
   "metadata": {},
   "source": [
    "<img src = './images/encoder.png'>"
   ]
  },
  {
   "cell_type": "markdown",
   "metadata": {},
   "source": [
    "<h2>Dimensional Notations followed </h2>\n",
    "<h3> =================================================== </h3>\n",
    "<h3>bsiz = batch_size</h3>\n",
    "<h3>slen = source_length</h3>\n",
    "<h3>hdim = hidden_dimension size</h3>\n",
    "<h3>qlen = query length</h3>\n",
    "<h3>vlen = value length</h3>\n",
    "<h3>klen = key length</h3>\n",
    "<h3>tlen = target length</h3>\n",
    "<h3>nheads = number of heads in multihead attention</h3>\n",
    "<h3> =================================================== </h3>"
   ]
  },
  {
   "cell_type": "markdown",
   "metadata": {},
   "source": [
    "<h2>The Encoder</h2>"
   ]
  },
  {
   "cell_type": "markdown",
   "metadata": {},
   "source": [
    "<h4> Token Embeddings and Positional Encodings </h4>"
   ]
  },
  {
   "cell_type": "markdown",
   "metadata": {},
   "source": [
    "Refer : https://jalammar.github.io/illustrated-transformer/"
   ]
  },
  {
   "cell_type": "markdown",
   "metadata": {},
   "source": [
    "<img src= './images/positional_encoding_vectors.png' width = 500, height = 400>"
   ]
  },
  {
   "cell_type": "markdown",
   "metadata": {},
   "source": [
    "The input sequence of tokens are passed through an embedding layer, this embeddin layer can be of any type, either use pretrained embeddings(Word2Vec,GLoVE,fasttext) etc. or can be learned on their own.\n",
    "<br><br>\n",
    "However since we are not using RNNs, the model has no idea about the positional sequence of input tokens,i.e the model doesn't know which word comes after what word and the relative distances between any pair of words. Hence another embedding is added to the original input embedding, which is called as positional embedding.\n",
    "<br><br>\n",
    "The positional encoding has a fixed vocab size 'x' which means the model can accept sequences which are 'x' tokens long."
   ]
  },
  {
   "cell_type": "markdown",
   "metadata": {},
   "source": [
    "Next, the token and positional embeddings are elementwise summed together to get a vector which contains information about the token and also its position with in the sequence. However, before they are summed, the token embeddings are multiplied by a scaling factor which is $\\sqrt{d_{model}}$, where $d_{model}$ is the hidden dimension size, hid_dim. This supposedly reduces variance in the embeddings and the model is difficult to train reliably without this scaling factor. Dropout is then applied to the combined embeddings.(mentioned in section 3.4 of the <a href = \"https://arxiv.org/abs/1706.03762\">paper</a>)\n",
    "\n",
    "\n",
    "\n",
    "The combined embeddings are then passed through $N$ encoder layers to get $Z$, which is then output and can be used by the decoder."
   ]
  },
  {
   "cell_type": "markdown",
   "metadata": {},
   "source": [
    "WE'LL BE LEARNING THE POSITONAL ENCODINGS RATHER THAN USING STATIC PE(AS USED IN THE PAPER)"
   ]
  },
  {
   "cell_type": "markdown",
   "metadata": {},
   "source": [
    "The input sequence is the masked with a source_mask which masks the input sequence wherever there is padding. It marks the token if it is not a pad token as 1 and 0 when it is a pad token.This makes sense because the pad tokens do not serve any useful purpose apart from making the lengths similar.So the model should not apply attention over these pad tokens and hence they are masked with 0."
   ]
  },
  {
   "cell_type": "code",
   "execution_count": 19,
   "metadata": {
    "scrolled": true
   },
   "outputs": [],
   "source": [
    "class Encoder(nn.Module):\n",
    "    def __init__(self,input_dimension,hidden_dimension,\n",
    "                 number_encoder_layers,num_attention_heads,pointwise_ff_dim,\n",
    "                 dropout,device,max_length = 100):\n",
    "        super().__init__()\n",
    "        \n",
    "        self.device = device\n",
    "        \n",
    "        self.token_embeddings = nn.Embedding(input_dimension,hidden_dimension)\n",
    "        self.positional_embeddings = nn.Embedding(max_length,hidden_dimension)\n",
    "        \n",
    "        \n",
    "        self.encoder_blocks = nn.ModuleList([EncoderBlock(hidden_dimension,num_attention_heads,\n",
    "                                                  pointwise_ff_dim,dropout,device)\n",
    "                                     for _ in range(number_encoder_layers)])\n",
    "        \n",
    "        self.dropout = nn.Dropout(dropout)\n",
    "        \n",
    "        # sqrt(d_model)\n",
    "        self.scale = torch.sqrt(torch.FloatTensor([hidden_dimension])).to(device)\n",
    "        \n",
    "        \n",
    "    def forward(self,source,source_mask):\n",
    "        \n",
    "        #src = (bsiz,slen)\n",
    "        #src_mask = (bsiz,1,1,slen)\n",
    "        \n",
    "        batch_size = source.shape[0]\n",
    "        source_length = source.shape[1]\n",
    "        \n",
    "        \n",
    "        positions = torch.arange(0,source_length).unsqueeze(0)\n",
    "        #positions = (source_length,1)\n",
    "        \n",
    "        positions = positions.repeat(batch_size,1).to(self.device)\n",
    "        #positions = (batch_size,source_length)\n",
    "        #see posmask_example1 below after this cell for clarification\n",
    "        \n",
    "        #add the token_embeddings to positional_encodings for letting \n",
    "        #the model know about the sequence of occurance of tokens\n",
    "        \n",
    "        #get the embeddings for the token and multiply with sqrt(d_model) scale\n",
    "        source = self.token_embeddings(source)*self.scale\n",
    "        \n",
    "        #add the positional embeddings to the source\n",
    "        source = source + self.positional_embeddings(positions)\n",
    "        \n",
    "        #apply dropout\n",
    "        source = self.dropout(source)\n",
    "        #source = (bsiz,slen,hdim) see the image below for tensor shape clarification\n",
    "        \n",
    "        for encoder_block in self.encoder_blocks:\n",
    "            source = encoder_block(source,source_mask)\n",
    "        \n",
    "        return source"
   ]
  },
  {
   "cell_type": "markdown",
   "metadata": {},
   "source": [
    "<h3> Few visualizations to clarify the above shapes and tensors</h3>"
   ]
  },
  {
   "cell_type": "markdown",
   "metadata": {},
   "source": [
    "<b> Below image shows the shape of a tensor after passing through the token and positional embeddings </b> <br><br>\n",
    "The shape remains same after passing through the encoder layers as well."
   ]
  },
  {
   "cell_type": "markdown",
   "metadata": {},
   "source": [
    "<img src = './images/embedding_op_tensor.png'>"
   ]
  },
  {
   "cell_type": "code",
   "execution_count": 20,
   "metadata": {},
   "outputs": [
    {
     "data": {
      "text/plain": [
       "tensor([[0, 1, 2, 3, 4]])"
      ]
     },
     "execution_count": 20,
     "metadata": {},
     "output_type": "execute_result"
    }
   ],
   "source": [
    "posmask_example1 = torch.arange(0,5).unsqueeze(0)\n",
    "posmask_example1"
   ]
  },
  {
   "cell_type": "code",
   "execution_count": 21,
   "metadata": {},
   "outputs": [
    {
     "data": {
      "text/plain": [
       "tensor([[0, 1, 2, 3, 4],\n",
       "        [0, 1, 2, 3, 4],\n",
       "        [0, 1, 2, 3, 4],\n",
       "        [0, 1, 2, 3, 4]])"
      ]
     },
     "execution_count": 21,
     "metadata": {},
     "output_type": "execute_result"
    }
   ],
   "source": [
    "posmask_example1.repeat(4,1)"
   ]
  },
  {
   "cell_type": "code",
   "execution_count": 22,
   "metadata": {},
   "outputs": [
    {
     "data": {
      "text/plain": [
       "tensor([[0, 1, 2, 3, 4, 0, 1, 2, 3, 4],\n",
       "        [0, 1, 2, 3, 4, 0, 1, 2, 3, 4],\n",
       "        [0, 1, 2, 3, 4, 0, 1, 2, 3, 4],\n",
       "        [0, 1, 2, 3, 4, 0, 1, 2, 3, 4]])"
      ]
     },
     "execution_count": 22,
     "metadata": {},
     "output_type": "execute_result"
    }
   ],
   "source": [
    "posmask_example1.repeat(4,2)"
   ]
  },
  {
   "cell_type": "code",
   "execution_count": 23,
   "metadata": {},
   "outputs": [
    {
     "data": {
      "text/plain": [
       "torch.Size([2, 4, 16])"
      ]
     },
     "execution_count": 23,
     "metadata": {},
     "output_type": "execute_result"
    }
   ],
   "source": [
    "# the embedding layer\n",
    "\n",
    "# let m = input dim (number of unique words/items)\n",
    "# let n = hidden_dim i.e we want each word to be represented by a\n",
    "#         size n numerical vector\n",
    "\n",
    "m=8\n",
    "n=16\n",
    "inp = torch.LongTensor([[1,2,3,4],[4,2,1,7]])\n",
    "example_embedding_layer = nn.Embedding(m,n)\n",
    "op = example_embedding_layer(inp)\n",
    "op.shape"
   ]
  },
  {
   "cell_type": "code",
   "execution_count": 24,
   "metadata": {},
   "outputs": [
    {
     "data": {
      "text/plain": [
       "torch.Size([2, 4])"
      ]
     },
     "execution_count": 24,
     "metadata": {},
     "output_type": "execute_result"
    }
   ],
   "source": [
    "inp.shape"
   ]
  },
  {
   "cell_type": "code",
   "execution_count": 25,
   "metadata": {},
   "outputs": [
    {
     "data": {
      "text/plain": [
       "tensor([[[ 0.7988, -0.0923, -0.7049, -1.6024,  0.2891,  0.4899, -0.3853,\n",
       "          -0.7120, -0.1706, -1.4594,  0.2207,  0.2463, -1.3248,  0.6970,\n",
       "          -0.6631,  1.2158],\n",
       "         [-1.4949,  0.8810, -1.1786, -0.9340, -0.5675, -0.2772, -2.1834,\n",
       "           0.3668,  0.9380,  0.0078, -0.3139, -1.1567,  1.8409, -1.0174,\n",
       "           1.2192,  0.1601],\n",
       "         [ 1.5985, -0.0469, -1.5270, -2.0143, -1.5173,  0.3877, -1.1849,\n",
       "           0.6897,  1.3232,  1.8169,  0.6808,  0.7244,  0.0323, -1.6593,\n",
       "          -1.8773,  0.7372],\n",
       "         [ 0.9257,  0.9247,  0.1825, -0.0737,  0.3147, -1.0369,  0.2100,\n",
       "           0.6144,  0.0628, -0.3297, -1.7970,  0.8728,  0.7670, -0.1138,\n",
       "          -0.9428,  0.7540]],\n",
       "\n",
       "        [[ 0.9257,  0.9247,  0.1825, -0.0737,  0.3147, -1.0369,  0.2100,\n",
       "           0.6144,  0.0628, -0.3297, -1.7970,  0.8728,  0.7670, -0.1138,\n",
       "          -0.9428,  0.7540],\n",
       "         [-1.4949,  0.8810, -1.1786, -0.9340, -0.5675, -0.2772, -2.1834,\n",
       "           0.3668,  0.9380,  0.0078, -0.3139, -1.1567,  1.8409, -1.0174,\n",
       "           1.2192,  0.1601],\n",
       "         [ 0.7988, -0.0923, -0.7049, -1.6024,  0.2891,  0.4899, -0.3853,\n",
       "          -0.7120, -0.1706, -1.4594,  0.2207,  0.2463, -1.3248,  0.6970,\n",
       "          -0.6631,  1.2158],\n",
       "         [ 0.9570, -0.5510,  2.6617,  2.1479, -0.8555, -0.7208,  1.3755,\n",
       "           0.9988,  0.1469, -0.9053, -0.3587,  1.6374,  0.6897, -0.5844,\n",
       "           0.9078,  0.4848]]], grad_fn=<EmbeddingBackward>)"
      ]
     },
     "execution_count": 25,
     "metadata": {},
     "output_type": "execute_result"
    }
   ],
   "source": [
    "op"
   ]
  },
  {
   "cell_type": "markdown",
   "metadata": {},
   "source": [
    "In the above example each token in the input is represented by a vector of dimension n.The embedding vector is created for m unique items, where each unique item has a vector of size n. <br>\n",
    "\n",
    "We see the shape of embedding op is (x,y,z) where x is number of input sequences,y is the sequence length and z is the size of embedding (which is same as n). "
   ]
  },
  {
   "cell_type": "markdown",
   "metadata": {},
   "source": [
    "For more details go to https://pytorch.org/docs/stable/generated/torch.nn.Embedding.html"
   ]
  },
  {
   "cell_type": "markdown",
   "metadata": {},
   "source": [
    "<h3>The Encoder Block</h3>"
   ]
  },
  {
   "cell_type": "markdown",
   "metadata": {},
   "source": [
    "<img src='./images/EncoderBlock.png'>"
   ]
  },
  {
   "cell_type": "markdown",
   "metadata": {},
   "source": [
    "It is the most important part of the Encoder, it contains the main network components repeated and split across several blocks. The steps are as follows:\n",
    "<ul>\n",
    "    <li>For first encoder block after passing through the embedding layers <br> it is passed through the multi head self attention layer and dropout is applied</li>\n",
    "    <li>Then the input is also passed as a residual connection and through a \"Layer normalization\" layer</li>\n",
    "    <li>It is then passed through a feed forward layer then again dropout,residual and layer normalization layer, the output of this layer is passed to the next encoder block</li>    \n",
    "</ul>"
   ]
  },
  {
   "cell_type": "markdown",
   "metadata": {},
   "source": [
    "The multi head self attention layer is called to find and apply attention to the sentence and it applies and returns the attention scores."
   ]
  },
  {
   "cell_type": "markdown",
   "metadata": {},
   "source": [
    "<b> Layer Normalization: </b>  normalizes the values of the features, i.e. across the hidden dimension, so each feature has a mean of 0 and a standard deviation of 1. This allows neural networks with a larger number of layers, like the Transformer, to be trained easier.<br>\n",
    "See https://pytorch.org/docs/stable/generated/torch.nn.LayerNorm.html and \n",
    "https://arxiv.org/abs/1607.06450 for more details."
   ]
  },
  {
   "cell_type": "code",
   "execution_count": 26,
   "metadata": {},
   "outputs": [],
   "source": [
    "class EncoderBlock(nn.Module):\n",
    "    def __init__(self,hidden_dimension,num_attention_heads,\n",
    "                      pointwise_ff_dim,dropout,device):\n",
    "        \n",
    "        super().__init__()\n",
    "        \n",
    "        self.attention_layer_norm = nn.LayerNorm(hidden_dimension)\n",
    "        self.feedForward_layer_norm = nn.LayerNorm(hidden_dimension)\n",
    "        \n",
    "        self.selfAttention = MultiHeadSelfAttention(hidden_dimension,\n",
    "                                                    num_attention_heads,\n",
    "                                                   dropout,device)\n",
    "        \n",
    "        self.pointWise_feedForward = PointWiseFeedForwardLayer(hidden_dimension,\n",
    "                                                              pointwise_ff_dim,\n",
    "                                                              dropout)\n",
    "        self.dropout = nn.Dropout(dropout)\n",
    "        \n",
    "        \n",
    "    def forward(self,source,source_mask):\n",
    "        \n",
    "        #source(x) = (bsiz,slen,hdim)\n",
    "        #sourcemask = (bsize,1,1,slen)\n",
    "        \n",
    "        #self attention(z)\n",
    "        #MHSA accepts input in (query,key,value,mask) format\n",
    "        attention_contexts,attention_scores = self.selfAttention(source,source,source,source_mask)\n",
    "        \n",
    "        #dropout,residual skip connection and attn_layer norm(x+z)\n",
    "        attention_contexts = self.dropout(attention_contexts)\n",
    "        \n",
    "        source = self.attention_layer_norm(source + attention_contexts)\n",
    "        \n",
    "        \n",
    "        #repeat the above for feedforward layer norm\n",
    "        #source = (bsiz,slen,hdim)\n",
    "        \n",
    "        #pointwise feedforward\n",
    "        attention_contexts = self.pointWise_feedForward(source)\n",
    "        \n",
    "        \n",
    "        #dropout,residual skip connection and ff_layer norm(x+z)\n",
    "        attention_contexts = self.dropout(attention_contexts)\n",
    "        source = self.feedForward_layer_norm(source + attention_contexts)\n",
    "        \n",
    "        #source = (bsiz,slen,hdim)\n",
    "        return source"
   ]
  },
  {
   "cell_type": "markdown",
   "metadata": {},
   "source": [
    "<h3> Multi Head Self Attention </h3>"
   ]
  },
  {
   "cell_type": "markdown",
   "metadata": {},
   "source": [
    "Self attention can completely replace recurrence.Each element in the sentence attends to other elements.Each word is a query as well as a key.We want to score each query-key pair.In this way everything is fully contextualized."
   ]
  },
  {
   "cell_type": "markdown",
   "metadata": {},
   "source": [
    "<img src=\"./images/scaled_dot_product_attention.png\">"
   ]
  },
  {
   "cell_type": "markdown",
   "metadata": {},
   "source": [
    "<b>Example</b> <br>\n",
    "$X_i$ = {$x_{i1}$,$x_{i2}$,$x_{i3}$,...$x_{in}$} <br>\n",
    "Each sample will have its own query key and value vectors.These projections(Q,K,V) are just linear layers on top original word embeddings."
   ]
  },
  {
   "cell_type": "markdown",
   "metadata": {},
   "source": [
    "Now to calculate attention, take a query vector k of <b>$x_{i}$</b>, lets call it <b>$x_{ik}$</b>, and apply dot product with each of the key vectors of all <b>$x_{i}$</b> i.e apply dot product of query vector of <b>$x_{ik}$</b> with all key vectors <b>$x_{ij}$</b> for each j."
   ]
  },
  {
   "cell_type": "markdown",
   "metadata": {},
   "source": [
    "We then get attention scores after applying softmax, we do this for every word and get an attention distribution for all the words.After which we get a representation of the word which is purely context dependent."
   ]
  },
  {
   "cell_type": "markdown",
   "metadata": {},
   "source": [
    "Below images show the above in visual form."
   ]
  },
  {
   "cell_type": "markdown",
   "metadata": {},
   "source": [
    "<img src = './images/selfattention.jpg'>"
   ]
  },
  {
   "cell_type": "markdown",
   "metadata": {},
   "source": [
    "<img src = \"./images/selfattentionoutput.png\">"
   ]
  },
  {
   "cell_type": "markdown",
   "metadata": {},
   "source": [
    "Since all of the above is done in batches of tensors, the above calculations can be easily done using Matrix multiplications.\n",
    "Below images show how to multiply inputs <b>X</b> with weight matrices <b> $W_q$, $W_v$,$W_k$ </b> to obtain the query, key and value vectors and then apply softmax on scaled dot product and multiplication with value vectors to obtain the context vector <b>Z</b>. "
   ]
  },
  {
   "cell_type": "markdown",
   "metadata": {},
   "source": [
    "<img src = './images/self-attention-matrix-calculation.png'>"
   ]
  },
  {
   "cell_type": "markdown",
   "metadata": {},
   "source": [
    "<img src = './images/self-attention-matrix-calculation-2.png'> "
   ]
  },
  {
   "cell_type": "markdown",
   "metadata": {},
   "source": [
    "In the above images Wk,Wq,Wv are nothing but the weights of the linear layers which will be used to define query,key and values.These weights are nothing but matrices for linear layers."
   ]
  },
  {
   "cell_type": "markdown",
   "metadata": {},
   "source": [
    "<b> Multiple Attention Heads <b>"
   ]
  },
  {
   "cell_type": "markdown",
   "metadata": {},
   "source": [
    "In the above parts we see that the representations learnt are fully contextual in nature, and hence provide multiple subspaces of the learnt representations by each head.\n",
    "<br>\n",
    "As the <a href = \"https://arxiv.org/abs/1706.03762\">paper</a> says, in section 3.2.2 <br>\n",
    " \n",
    "<i>\"Instead of performing a single attention function with dmodel-dimensional keys, values and queries,\n",
    "we found it beneficial to linearly project the queries, keys and values h times with different, learned\n",
    "linear projections to dk, dk and dv dimensions, respectively.\n",
    "    <br><br>On each of these projected versions of\n",
    "queries, keys and values we then perform the attention function in parallel, yielding dv-dimensional\n",
    "output values. These are concatenated and once again projected, resulting in the final values.<br>\n",
    "Multi-head attention allows the model to jointly attend to information from different representation\n",
    "subspaces at different positions. With a single attention head, averaging inhibits this.\n",
    "\"</i>\n"
   ]
  },
  {
   "cell_type": "markdown",
   "metadata": {},
   "source": [
    "<img src = \"./images/mha_1.jpg\">"
   ]
  },
  {
   "cell_type": "markdown",
   "metadata": {},
   "source": [
    "The above might look very intimidating at first, but understanding it visually helps alot."
   ]
  },
  {
   "cell_type": "markdown",
   "metadata": {},
   "source": [
    "<img src = \"./images/transformer_multi-headed_self-attention-recap.png\">"
   ]
  },
  {
   "cell_type": "markdown",
   "metadata": {},
   "source": [
    "Lets implement the above,and then understand the details of implementation after it. Dont worry, the code isnt that long, most of them are comments so that there is no confusion while manipulating the tensors."
   ]
  },
  {
   "cell_type": "markdown",
   "metadata": {},
   "source": [
    "I'll be using the above step numbers as an indicator for the corresponding section of the code."
   ]
  },
  {
   "cell_type": "code",
   "execution_count": 27,
   "metadata": {},
   "outputs": [],
   "source": [
    "class MultiHeadSelfAttention(nn.Module):\n",
    "    \n",
    "    def __init__(self,hidden_dimension,num_attention_heads,\n",
    "                dropout,device):\n",
    "        super().__init__()\n",
    "        \n",
    "        assert hidden_dimension % num_attention_heads == 0\n",
    "        \n",
    "        self.hidden_dimension = hidden_dimension\n",
    "        self.num_attention_heads = num_attention_heads\n",
    "        self.head_dimension = hidden_dimension // num_attention_heads\n",
    "        \n",
    "        self.W_q = nn.Linear(hidden_dimension,hidden_dimension)\n",
    "        self.W_k = nn.Linear(hidden_dimension,hidden_dimension)\n",
    "        self.W_v = nn.Linear(hidden_dimension,hidden_dimension)\n",
    "        \n",
    "        self.W_o = nn.Linear(hidden_dimension,hidden_dimension)\n",
    "        \n",
    "        self.dropout = nn.Dropout(dropout)\n",
    "        \n",
    "        self.scale = torch.sqrt(torch.FloatTensor([self.head_dimension])).to(device)\n",
    "       \n",
    "    \n",
    "    def split_heads(self,item,batch_size):\n",
    "        item = item.view(batch_size,-1,self.num_attention_heads,self.head_dimension)\n",
    "        item = item.permute(0,2,1,3)\n",
    "        return item\n",
    "    \n",
    "    def forward(self,query,key,value,mask = None):\n",
    "        \n",
    "        batch_size = query.shape[0]\n",
    "        # Step 3 from the image\n",
    "        #==========================================================#\n",
    "        #==========================================================#\n",
    "        \n",
    "        Q = self.W_q(query) #Q,query shape is (bsiz,qlen,hdim)\n",
    "        K = self.W_k(key)  #K,key shape is (bsiz,klen,hdim)\n",
    "        V = self.W_v(value)  #V,value shape is (bsiz,vlen,hdim)\n",
    "        \n",
    "        Q = self.split_heads(Q,batch_size) #Q shape(bsiz,n_attn_heads,qlen,head_dim)\n",
    "        K = self.split_heads(K,batch_size) #K shape(bsiz,n_attn_heads,klen,head_dim)\n",
    "        V = self.split_heads(V,batch_size) #V shape(bsiz,n_attn_heads,vlen,head_dim)\n",
    "        \n",
    "        #==========================================================#\n",
    "        #==========================================================#\n",
    "\n",
    "        \n",
    "        \n",
    "        \n",
    "        # Step 4 from the image\n",
    "        #==========================================================#\n",
    "        #==========================================================#\n",
    "             \n",
    "        # permute because Q = (bsize,n_attn_heads,qlen,head_dim)\n",
    "        #             and K = (bsize,n_attn_heads,klen,head_dim)\n",
    "        # we need to multiply across batches and corresponding attention heads,\n",
    "        # while following matrix multiplication compatibility\n",
    "        #Q(bsize,n_attn_heads,qlen,hdim) x K(bsize,n_attn_heads,hdim,klen)\n",
    "        #mainly we have to ensure that m1 = (qlen,hdim)  x m2 = (hdim,klen)\n",
    "        #                       gives  m3   = (qlen,klen)\n",
    "        \n",
    "        # Q x K.T / sqrt(d_k)\n",
    "        energy = torch.matmul(Q,K.permute(0,1,3,2)) / self.scale\n",
    "        #energy = (bsize,n_attn_heads,qlen,klen)\n",
    "        \n",
    "        #the below masking is done so that after softmax,useless and very low values go to 0.\n",
    "        if mask is not None:\n",
    "            energy = energy.masked_fill(mask == 0, -1e15)\n",
    "        \n",
    "        # softmax is applied over last dimension, across all batches, across all heads\n",
    "        # softmax(Q x K.T / sqrt(d_k))\n",
    "        attention = torch.softmax(energy,dim = -1)\n",
    "        \n",
    "        #apply attention_score x value\n",
    "        #attention = (bsiz,n_attn_heads,qlen,klen)\n",
    "        #V shape(bsiz,n_attn_heads,vlen,hdim)\n",
    "        \n",
    "        # softmax(Q x K.T / sqrt(d_k)) * V\n",
    "        # equivalent to attention_scores * V\n",
    "        \n",
    "        attention_scored_value = torch.matmul(self.dropout(attention),V)\n",
    "        #as klen = vlen, attention_scored_value(bsiz,n_attn_heads,qlen,hdim)\n",
    "        \n",
    "        attention_scored_value = attention_scored_value.permute(0,2,1,3).contiguous()\n",
    "        \n",
    "        #attention_scored_value(bsiz,qlen,n_attn_heads,hdim)\n",
    "        # contiguous makes a copy of the tensor such that the order of its elements in memory\n",
    "        #is the same as if it had been created from scratch with the same data.\n",
    "        #==========================================================#\n",
    "        #==========================================================#\n",
    "\n",
    "        \n",
    "        \n",
    "        #Step 5 from the image\n",
    "        #==========================================================#\n",
    "        #==========================================================#\n",
    "\n",
    "        attention_scored_value = attention_scored_value.view(batch_size,-1,self.hidden_dimension)\n",
    "        #attention_scored_value = (bsiz,qlen,h_dim)\n",
    "        \n",
    "        attention_contexts_Z = self.W_o(attention_scored_value)\n",
    "        #==========================================================#\n",
    "        #==========================================================#\n",
    "\n",
    "        return attention_contexts_Z,attention"
   ]
  },
  {
   "cell_type": "markdown",
   "metadata": {},
   "source": [
    "First we calculate $QW^Q$, $KW^K$ and $VW^V$ with the linear layers, $W^q$, $W^k$ and $W^v$, to give us Q, K and V. Next, we split the hid_dim of the query, key and value into n_heads using .view and correctly permute them so they can be multiplied together. We then calculate the energy (the un-normalized attention) by multiplying Q and K together and scaling it by the square root of head_dim, which is calulated as hid_dim // n_heads. We then mask the energy so we do not pay attention over any elements of the sequeuence we shouldn't, then apply the softmax and dropout. We then apply the attention to the value heads, V, before combining the n_heads together. Finally, we multiply this $W^O$, represented in the code by W_o.\n",
    "\n",
    "Note that in our implementation the lengths of the keys and values are always the same, thus when matrix multiplying the output of the softmax, attention, with V we will always have valid dimension sizes for matrix multiplication. This multiplication is carried out using torch.matmul which, when both tensors are greater than 2-dimensions, does a batched matrix multiplication over the last two dimensions of each tensor. <br>This will be a <b>[query len, key len] x [value len, head dim]</b> batched matrix multiplication over the batch size and each head which provides the<br> <b>[batch size, n heads, query len, head dim]</b> result."
   ]
  },
  {
   "cell_type": "markdown",
   "metadata": {},
   "source": [
    "# <h3> Example 2 </h3>"
   ]
  },
  {
   "cell_type": "code",
   "execution_count": 28,
   "metadata": {},
   "outputs": [],
   "source": [
    "bsiz = 4\n",
    "q_len = 6\n",
    "v_len = 6\n",
    "k_len = 6\n",
    "\n",
    "\n",
    "hdim = 8\n",
    "nheads = 2\n",
    "head_dim = hdim // nheads\n",
    "\n",
    "Q_ = torch.rand(bsiz, q_len,hdim)\n",
    "K_ = torch.rand(bsiz, k_len,hdim)\n",
    "V_ = torch.rand(bsiz, v_len,hdim)\n",
    "\n",
    "scale = torch.sqrt(torch.FloatTensor([head_dim]))"
   ]
  },
  {
   "cell_type": "code",
   "execution_count": 29,
   "metadata": {},
   "outputs": [
    {
     "name": "stdout",
     "output_type": "stream",
     "text": [
      "(torch.Size([4, 6, 8]), torch.Size([4, 6, 8]), torch.Size([4, 6, 8]))\n"
     ]
    }
   ],
   "source": [
    "print((Q_.shape,K_.shape,V_.shape))"
   ]
  },
  {
   "cell_type": "code",
   "execution_count": 30,
   "metadata": {},
   "outputs": [
    {
     "data": {
      "text/plain": [
       "tensor([[[8.7327e-01, 3.2295e-01, 7.9166e-01, 5.4470e-01, 6.2199e-01,\n",
       "          1.6677e-01, 3.9321e-01, 8.2983e-01],\n",
       "         [7.2933e-01, 3.5544e-01, 5.6151e-01, 8.8281e-01, 6.1901e-02,\n",
       "          8.2117e-01, 3.4973e-01, 3.9828e-01],\n",
       "         [7.3793e-01, 8.4621e-02, 4.2447e-01, 9.7781e-01, 6.7995e-01,\n",
       "          3.1512e-01, 3.9109e-01, 8.9431e-01],\n",
       "         [6.8890e-01, 8.3894e-01, 1.7802e-01, 6.4415e-01, 5.8938e-01,\n",
       "          5.8716e-01, 9.6428e-01, 7.7679e-01],\n",
       "         [8.4465e-01, 7.1955e-01, 7.1014e-01, 4.1303e-01, 5.8708e-02,\n",
       "          7.7635e-02, 1.8859e-01, 1.7628e-01],\n",
       "         [7.3538e-01, 6.5478e-01, 3.5743e-01, 1.1912e-01, 9.9223e-01,\n",
       "          8.7573e-01, 7.3779e-01, 9.9492e-01]],\n",
       "\n",
       "        [[2.3380e-01, 2.1526e-01, 2.0733e-01, 4.7579e-01, 5.8631e-02,\n",
       "          8.9582e-01, 5.1286e-01, 7.4900e-01],\n",
       "         [2.2541e-01, 4.4849e-01, 5.6576e-01, 3.6315e-01, 9.7195e-01,\n",
       "          2.7156e-01, 6.5525e-01, 1.6075e-01],\n",
       "         [4.4082e-01, 3.6735e-01, 7.1573e-01, 8.4927e-01, 6.2160e-01,\n",
       "          4.5460e-01, 3.7197e-01, 8.9201e-01],\n",
       "         [3.8186e-01, 8.6096e-01, 2.7753e-01, 9.1208e-01, 9.9800e-01,\n",
       "          8.4274e-01, 7.8677e-01, 6.8610e-01],\n",
       "         [2.5415e-01, 5.0597e-01, 6.7217e-01, 3.6935e-01, 5.8963e-01,\n",
       "          7.9284e-01, 3.6734e-02, 4.4899e-02],\n",
       "         [2.0082e-01, 5.6099e-01, 4.0732e-01, 6.0775e-01, 3.8110e-01,\n",
       "          1.7268e-01, 5.6638e-01, 8.3864e-01]],\n",
       "\n",
       "        [[1.9978e-01, 9.3829e-01, 6.2306e-01, 9.9302e-01, 4.1706e-02,\n",
       "          2.1394e-02, 6.6963e-01, 3.3555e-02],\n",
       "         [9.0252e-02, 7.5424e-01, 7.4271e-01, 4.4390e-02, 8.5979e-01,\n",
       "          4.0278e-01, 8.7121e-01, 2.0658e-01],\n",
       "         [2.4565e-02, 1.6854e-01, 4.2249e-01, 6.3777e-04, 4.6593e-01,\n",
       "          2.5046e-01, 3.8362e-01, 4.9993e-01],\n",
       "         [5.2806e-01, 1.0909e-02, 7.5719e-01, 1.9355e-01, 8.0471e-01,\n",
       "          9.5816e-01, 3.3325e-01, 5.5612e-01],\n",
       "         [7.7569e-01, 4.6039e-01, 8.1637e-02, 7.2460e-01, 7.3787e-01,\n",
       "          2.2607e-01, 1.6334e-01, 4.1274e-01],\n",
       "         [5.9803e-01, 2.4714e-01, 4.8798e-01, 2.8393e-01, 3.0521e-01,\n",
       "          4.3157e-01, 3.0943e-01, 8.8407e-01]],\n",
       "\n",
       "        [[6.3138e-01, 9.4747e-01, 9.5146e-01, 5.8172e-01, 2.9199e-01,\n",
       "          8.0405e-01, 4.8260e-01, 8.7014e-01],\n",
       "         [3.9324e-01, 9.4216e-01, 5.6605e-01, 3.8891e-01, 1.7381e-01,\n",
       "          8.7004e-01, 5.6504e-01, 6.7296e-01],\n",
       "         [7.0210e-01, 4.7418e-01, 2.4863e-01, 3.5077e-01, 4.7774e-01,\n",
       "          8.1048e-01, 4.6346e-01, 3.7324e-01],\n",
       "         [4.3205e-01, 5.8209e-01, 8.9907e-01, 8.7732e-01, 4.7076e-01,\n",
       "          5.6628e-01, 9.5345e-01, 7.1967e-01],\n",
       "         [4.4724e-01, 7.9641e-01, 7.2774e-01, 3.6572e-01, 7.0227e-01,\n",
       "          5.3963e-01, 3.1437e-01, 4.6078e-01],\n",
       "         [9.7060e-01, 6.5019e-01, 8.7197e-02, 8.1864e-01, 6.0743e-01,\n",
       "          7.4596e-01, 5.0210e-01, 6.9886e-01]]])"
      ]
     },
     "execution_count": 30,
     "metadata": {},
     "output_type": "execute_result"
    }
   ],
   "source": [
    "Q_ #[batch size, query len, hid dim]"
   ]
  },
  {
   "cell_type": "markdown",
   "metadata": {},
   "source": [
    "After applying .view() we get 4 batches each of qlen size, having nheads with each having dimension head_dim"
   ]
  },
  {
   "cell_type": "code",
   "execution_count": 31,
   "metadata": {},
   "outputs": [
    {
     "data": {
      "text/plain": [
       "torch.Size([4, 6, 2, 4])"
      ]
     },
     "execution_count": 31,
     "metadata": {},
     "output_type": "execute_result"
    }
   ],
   "source": [
    "Q_.view(bsiz,-1,nheads,head_dim).shape"
   ]
  },
  {
   "cell_type": "code",
   "execution_count": 32,
   "metadata": {
    "scrolled": false
   },
   "outputs": [
    {
     "name": "stdout",
     "output_type": "stream",
     "text": [
      "(tensor([[[0.8733, 0.3230, 0.7917, 0.5447],\n",
      "         [0.6220, 0.1668, 0.3932, 0.8298]],\n",
      "\n",
      "        [[0.7293, 0.3554, 0.5615, 0.8828],\n",
      "         [0.0619, 0.8212, 0.3497, 0.3983]],\n",
      "\n",
      "        [[0.7379, 0.0846, 0.4245, 0.9778],\n",
      "         [0.6800, 0.3151, 0.3911, 0.8943]],\n",
      "\n",
      "        [[0.6889, 0.8389, 0.1780, 0.6442],\n",
      "         [0.5894, 0.5872, 0.9643, 0.7768]],\n",
      "\n",
      "        [[0.8447, 0.7195, 0.7101, 0.4130],\n",
      "         [0.0587, 0.0776, 0.1886, 0.1763]],\n",
      "\n",
      "        [[0.7354, 0.6548, 0.3574, 0.1191],\n",
      "         [0.9922, 0.8757, 0.7378, 0.9949]]]), torch.Size([6, 2, 4]))\n",
      "--------------------------------------------------\n",
      "(tensor([[[0.2338, 0.2153, 0.2073, 0.4758],\n",
      "         [0.0586, 0.8958, 0.5129, 0.7490]],\n",
      "\n",
      "        [[0.2254, 0.4485, 0.5658, 0.3631],\n",
      "         [0.9719, 0.2716, 0.6552, 0.1607]],\n",
      "\n",
      "        [[0.4408, 0.3674, 0.7157, 0.8493],\n",
      "         [0.6216, 0.4546, 0.3720, 0.8920]],\n",
      "\n",
      "        [[0.3819, 0.8610, 0.2775, 0.9121],\n",
      "         [0.9980, 0.8427, 0.7868, 0.6861]],\n",
      "\n",
      "        [[0.2542, 0.5060, 0.6722, 0.3694],\n",
      "         [0.5896, 0.7928, 0.0367, 0.0449]],\n",
      "\n",
      "        [[0.2008, 0.5610, 0.4073, 0.6077],\n",
      "         [0.3811, 0.1727, 0.5664, 0.8386]]]), torch.Size([6, 2, 4]))\n",
      "--------------------------------------------------\n",
      "(tensor([[[1.9978e-01, 9.3829e-01, 6.2306e-01, 9.9302e-01],\n",
      "         [4.1706e-02, 2.1394e-02, 6.6963e-01, 3.3555e-02]],\n",
      "\n",
      "        [[9.0252e-02, 7.5424e-01, 7.4271e-01, 4.4390e-02],\n",
      "         [8.5979e-01, 4.0278e-01, 8.7121e-01, 2.0658e-01]],\n",
      "\n",
      "        [[2.4565e-02, 1.6854e-01, 4.2249e-01, 6.3777e-04],\n",
      "         [4.6593e-01, 2.5046e-01, 3.8362e-01, 4.9993e-01]],\n",
      "\n",
      "        [[5.2806e-01, 1.0909e-02, 7.5719e-01, 1.9355e-01],\n",
      "         [8.0471e-01, 9.5816e-01, 3.3325e-01, 5.5612e-01]],\n",
      "\n",
      "        [[7.7569e-01, 4.6039e-01, 8.1637e-02, 7.2460e-01],\n",
      "         [7.3787e-01, 2.2607e-01, 1.6334e-01, 4.1274e-01]],\n",
      "\n",
      "        [[5.9803e-01, 2.4714e-01, 4.8798e-01, 2.8393e-01],\n",
      "         [3.0521e-01, 4.3157e-01, 3.0943e-01, 8.8407e-01]]]), torch.Size([6, 2, 4]))\n",
      "--------------------------------------------------\n",
      "(tensor([[[0.6314, 0.9475, 0.9515, 0.5817],\n",
      "         [0.2920, 0.8040, 0.4826, 0.8701]],\n",
      "\n",
      "        [[0.3932, 0.9422, 0.5660, 0.3889],\n",
      "         [0.1738, 0.8700, 0.5650, 0.6730]],\n",
      "\n",
      "        [[0.7021, 0.4742, 0.2486, 0.3508],\n",
      "         [0.4777, 0.8105, 0.4635, 0.3732]],\n",
      "\n",
      "        [[0.4320, 0.5821, 0.8991, 0.8773],\n",
      "         [0.4708, 0.5663, 0.9534, 0.7197]],\n",
      "\n",
      "        [[0.4472, 0.7964, 0.7277, 0.3657],\n",
      "         [0.7023, 0.5396, 0.3144, 0.4608]],\n",
      "\n",
      "        [[0.9706, 0.6502, 0.0872, 0.8186],\n",
      "         [0.6074, 0.7460, 0.5021, 0.6989]]]), torch.Size([6, 2, 4]))\n",
      "--------------------------------------------------\n"
     ]
    }
   ],
   "source": [
    "for i in Q_.view(bsiz,-1,nheads,head_dim):\n",
    "    print((i,i.shape))\n",
    "    print('-'*50)"
   ]
  },
  {
   "cell_type": "code",
   "execution_count": 33,
   "metadata": {},
   "outputs": [],
   "source": [
    "Q_split = Q_.view(bsiz,-1,nheads,head_dim).permute(0,2,1,3)"
   ]
  },
  {
   "cell_type": "code",
   "execution_count": 34,
   "metadata": {},
   "outputs": [
    {
     "data": {
      "text/plain": [
       "torch.Size([4, 2, 6, 4])"
      ]
     },
     "execution_count": 34,
     "metadata": {},
     "output_type": "execute_result"
    }
   ],
   "source": [
    "Q_split.shape"
   ]
  },
  {
   "cell_type": "code",
   "execution_count": 35,
   "metadata": {},
   "outputs": [
    {
     "name": "stdout",
     "output_type": "stream",
     "text": [
      "(tensor([[[0.8733, 0.3230, 0.7917, 0.5447],\n",
      "         [0.7293, 0.3554, 0.5615, 0.8828],\n",
      "         [0.7379, 0.0846, 0.4245, 0.9778],\n",
      "         [0.6889, 0.8389, 0.1780, 0.6442],\n",
      "         [0.8447, 0.7195, 0.7101, 0.4130],\n",
      "         [0.7354, 0.6548, 0.3574, 0.1191]],\n",
      "\n",
      "        [[0.6220, 0.1668, 0.3932, 0.8298],\n",
      "         [0.0619, 0.8212, 0.3497, 0.3983],\n",
      "         [0.6800, 0.3151, 0.3911, 0.8943],\n",
      "         [0.5894, 0.5872, 0.9643, 0.7768],\n",
      "         [0.0587, 0.0776, 0.1886, 0.1763],\n",
      "         [0.9922, 0.8757, 0.7378, 0.9949]]]), torch.Size([2, 6, 4]))\n",
      "--------------------------------------------------\n",
      "(tensor([[[0.2338, 0.2153, 0.2073, 0.4758],\n",
      "         [0.2254, 0.4485, 0.5658, 0.3631],\n",
      "         [0.4408, 0.3674, 0.7157, 0.8493],\n",
      "         [0.3819, 0.8610, 0.2775, 0.9121],\n",
      "         [0.2542, 0.5060, 0.6722, 0.3694],\n",
      "         [0.2008, 0.5610, 0.4073, 0.6077]],\n",
      "\n",
      "        [[0.0586, 0.8958, 0.5129, 0.7490],\n",
      "         [0.9719, 0.2716, 0.6552, 0.1607],\n",
      "         [0.6216, 0.4546, 0.3720, 0.8920],\n",
      "         [0.9980, 0.8427, 0.7868, 0.6861],\n",
      "         [0.5896, 0.7928, 0.0367, 0.0449],\n",
      "         [0.3811, 0.1727, 0.5664, 0.8386]]]), torch.Size([2, 6, 4]))\n",
      "--------------------------------------------------\n",
      "(tensor([[[1.9978e-01, 9.3829e-01, 6.2306e-01, 9.9302e-01],\n",
      "         [9.0252e-02, 7.5424e-01, 7.4271e-01, 4.4390e-02],\n",
      "         [2.4565e-02, 1.6854e-01, 4.2249e-01, 6.3777e-04],\n",
      "         [5.2806e-01, 1.0909e-02, 7.5719e-01, 1.9355e-01],\n",
      "         [7.7569e-01, 4.6039e-01, 8.1637e-02, 7.2460e-01],\n",
      "         [5.9803e-01, 2.4714e-01, 4.8798e-01, 2.8393e-01]],\n",
      "\n",
      "        [[4.1706e-02, 2.1394e-02, 6.6963e-01, 3.3555e-02],\n",
      "         [8.5979e-01, 4.0278e-01, 8.7121e-01, 2.0658e-01],\n",
      "         [4.6593e-01, 2.5046e-01, 3.8362e-01, 4.9993e-01],\n",
      "         [8.0471e-01, 9.5816e-01, 3.3325e-01, 5.5612e-01],\n",
      "         [7.3787e-01, 2.2607e-01, 1.6334e-01, 4.1274e-01],\n",
      "         [3.0521e-01, 4.3157e-01, 3.0943e-01, 8.8407e-01]]]), torch.Size([2, 6, 4]))\n",
      "--------------------------------------------------\n",
      "(tensor([[[0.6314, 0.9475, 0.9515, 0.5817],\n",
      "         [0.3932, 0.9422, 0.5660, 0.3889],\n",
      "         [0.7021, 0.4742, 0.2486, 0.3508],\n",
      "         [0.4320, 0.5821, 0.8991, 0.8773],\n",
      "         [0.4472, 0.7964, 0.7277, 0.3657],\n",
      "         [0.9706, 0.6502, 0.0872, 0.8186]],\n",
      "\n",
      "        [[0.2920, 0.8040, 0.4826, 0.8701],\n",
      "         [0.1738, 0.8700, 0.5650, 0.6730],\n",
      "         [0.4777, 0.8105, 0.4635, 0.3732],\n",
      "         [0.4708, 0.5663, 0.9534, 0.7197],\n",
      "         [0.7023, 0.5396, 0.3144, 0.4608],\n",
      "         [0.6074, 0.7460, 0.5021, 0.6989]]]), torch.Size([2, 6, 4]))\n",
      "--------------------------------------------------\n"
     ]
    }
   ],
   "source": [
    "for splithead in Q_split:\n",
    "    print((splithead,splithead.shape))\n",
    "    print('-'*50)"
   ]
  },
  {
   "cell_type": "markdown",
   "metadata": {},
   "source": [
    "Q_split has shape <b>(bsize,nheads,hdim,headdim)</b>\n",
    "So there are bszie number of batches in Q_split and each batch is split into nheads , where each item is hdim x headdim.\n",
    "<br><br>\n",
    "\n",
    "The same happens with all the three matrices -> Q,K and V.\n",
    "<br>\n"
   ]
  },
  {
   "cell_type": "code",
   "execution_count": 36,
   "metadata": {},
   "outputs": [],
   "source": [
    "Q_split = Q_.view(bsiz,-1,nheads,head_dim).permute(0,2,1,3)\n",
    "K_split = K_.view(bsiz,-1,nheads,head_dim).permute(0,2,1,3)\n",
    "V_split = V_.view(bsiz,-1,nheads,head_dim).permute(0,2,1,3)"
   ]
  },
  {
   "cell_type": "code",
   "execution_count": 37,
   "metadata": {},
   "outputs": [],
   "source": [
    "# Q x K.T / sqrt(d_k)\n",
    "energy = torch.matmul(Q_split,K_split.permute(0,1,3,2)) / scale\n",
    "#energy = (bsize,n_attn_heads,qlen,klen)"
   ]
  },
  {
   "cell_type": "code",
   "execution_count": 38,
   "metadata": {},
   "outputs": [
    {
     "data": {
      "text/plain": [
       "torch.Size([4, 2, 6, 6])"
      ]
     },
     "execution_count": 38,
     "metadata": {},
     "output_type": "execute_result"
    }
   ],
   "source": [
    "energy.shape"
   ]
  },
  {
   "cell_type": "code",
   "execution_count": 39,
   "metadata": {},
   "outputs": [
    {
     "data": {
      "text/plain": [
       "torch.Size([4, 2, 6, 6])"
      ]
     },
     "execution_count": 39,
     "metadata": {},
     "output_type": "execute_result"
    }
   ],
   "source": [
    "attention = torch.softmax(energy,dim = -1)\n",
    "attention.shape"
   ]
  },
  {
   "cell_type": "code",
   "execution_count": 40,
   "metadata": {},
   "outputs": [
    {
     "data": {
      "text/plain": [
       "tensor([[[1.0000, 1.0000, 1.0000, 1.0000, 1.0000, 1.0000],\n",
       "         [1.0000, 1.0000, 1.0000, 1.0000, 1.0000, 1.0000]],\n",
       "\n",
       "        [[1.0000, 1.0000, 1.0000, 1.0000, 1.0000, 1.0000],\n",
       "         [1.0000, 1.0000, 1.0000, 1.0000, 1.0000, 1.0000]],\n",
       "\n",
       "        [[1.0000, 1.0000, 1.0000, 1.0000, 1.0000, 1.0000],\n",
       "         [1.0000, 1.0000, 1.0000, 1.0000, 1.0000, 1.0000]],\n",
       "\n",
       "        [[1.0000, 1.0000, 1.0000, 1.0000, 1.0000, 1.0000],\n",
       "         [1.0000, 1.0000, 1.0000, 1.0000, 1.0000, 1.0000]]])"
      ]
     },
     "execution_count": 40,
     "metadata": {},
     "output_type": "execute_result"
    }
   ],
   "source": [
    "#sum of attentions should be 1 across all heads\n",
    "torch.sum(attention,dim=-1)"
   ]
  },
  {
   "cell_type": "code",
   "execution_count": null,
   "metadata": {},
   "outputs": [],
   "source": []
  },
  {
   "cell_type": "markdown",
   "metadata": {},
   "source": [
    "<h3> Point Wise Feed Forward Layer </h3>"
   ]
  },
  {
   "cell_type": "markdown",
   "metadata": {},
   "source": [
    "Mentioned in section 3.3 of the <a href = 'https://arxiv.org/abs/1706.03762'> paper</a>."
   ]
  },
  {
   "cell_type": "markdown",
   "metadata": {},
   "source": [
    "<i> In addition to attention sub-layers, each of the layers in our encoder and decoder contains a fully\n",
    "connected feed-forward network, which is applied to each position separately and identically. This\n",
    "consists of two linear transformations with a ReLU activation in between\n",
    "    </i>"
   ]
  },
  {
   "cell_type": "markdown",
   "metadata": {},
   "source": [
    "<b>FFN(x) = max(0, W$_1$*<i>x</i> + b1)*$W_2$ + b$_2$ </b>"
   ]
  },
  {
   "cell_type": "markdown",
   "metadata": {},
   "source": [
    "This is mainly used to add additional learnable parameters and give appropriate weightage to the attention outputs, while learning the other non-linearities present."
   ]
  },
  {
   "cell_type": "code",
   "execution_count": 41,
   "metadata": {},
   "outputs": [],
   "source": [
    "class PointWiseFeedForwardLayer(nn.Module):\n",
    "    \n",
    "    def __init__(self,hidden_dimension,pointwise_ff_dim,dropout):\n",
    "        \n",
    "        super().__init__()\n",
    "        \n",
    "        self.fully_connected_1 = nn.Linear(hidden_dimension,pointwise_ff_dim)\n",
    "        \n",
    "        self.fully_connected_2 = nn.Linear(pointwise_ff_dim,hidden_dimension)\n",
    "        \n",
    "        self.dropout = nn.Dropout(dropout)\n",
    "        \n",
    "    \n",
    "    def forward(self,inp):\n",
    "        \n",
    "        #inp  = (batch_size,seqlen,hid_dim)\n",
    "        \n",
    "        fc1_op = self.fully_connected_1(inp)\n",
    "        fc1_op = torch.relu(fc1_op)\n",
    "        # fc1_op = (batch_size,seq_len,pf_dim) \n",
    "        \n",
    "        fc2_op = self.fully_connected_2(fc1_op)\n",
    "        # fc2_op = (batch_size,seq_len,hid_dim) \n",
    "        \n",
    "        return  fc2_op"
   ]
  },
  {
   "cell_type": "markdown",
   "metadata": {},
   "source": [
    "<h2> The Decoder </h2>"
   ]
  },
  {
   "cell_type": "markdown",
   "metadata": {},
   "source": [
    "Decoder is used to use the encoded representations of the source <b>Z</b> and convert it to target tokens. We need to compare these predictions to find the loss and learn to improve our predictions."
   ]
  },
  {
   "cell_type": "markdown",
   "metadata": {},
   "source": [
    "<img src = './images/transformer-decoder.png'>"
   ]
  },
  {
   "cell_type": "markdown",
   "metadata": {},
   "source": [
    "<img src=\"./images/transformer_decoding_1.gif\" width=\"950\" align=\"center\">"
   ]
  },
  {
   "cell_type": "markdown",
   "metadata": {},
   "source": [
    "The encoder outputsare transformed to a set of attention Key and Value vectors, they will be used by the decoder in its encoder decoder attention layer,which will help in decoding the appropriate positions to pay attention to while decoding."
   ]
  },
  {
   "cell_type": "markdown",
   "metadata": {},
   "source": [
    "Until a end/special token is reached, the decoder continues to decode.The output of each step is fed to the bottom decoder in the next time step, and the decoders bubble up their decoding results just like the encoders did. And just like we did with the encoder inputs, we embed and add positional encoding to those decoder inputs to indicate the position of each word."
   ]
  },
  {
   "cell_type": "markdown",
   "metadata": {},
   "source": [
    "<img src=\"./images/transformer_decoding_2.gif\" width=\"950\" align=\"center\">"
   ]
  },
  {
   "cell_type": "markdown",
   "metadata": {},
   "source": [
    "Each decoder block has 2 multi-head-self-attention(MHSA) layers.\n",
    "<br>\n",
    "These MHSA layers are used as follows:\n",
    "<ul>\n",
    "    <li>The first MHSA layer uses masked self attention mechanism, so that the model doesnt \"<i>cheat</i>\" and looks the actual word ahead of its actual decoding.\n",
    "        <br><br>\n",
    "    According to the paper, <br>\n",
    "        <i>\"We also modify the self-attention\n",
    "sub-layer in the decoder stack to prevent positions from attending to subsequent positions. This\n",
    "masking, combined with fact that the output embeddings are offset by one position, ensures that the\n",
    "predictions for position i can depend only on the known outputs at positions less than i.\"</i></li>\n",
    "</ul>"
   ]
  },
  {
   "cell_type": "markdown",
   "metadata": {},
   "source": [
    "<ul>     <li> The second MHSA layer uses the decoder representation of query from the previous MHSA layer and encoder representations of key and value from the encoder. This is also called as <i>cross-attention</i> </li>\n",
    "    \n",
    "</ul>\n",
    "    "
   ]
  },
  {
   "cell_type": "markdown",
   "metadata": {},
   "source": [
    "<ul><li>Similar to the encoder the decoder also uses Positional Embeddings which is then combined with the scaled token embeddings by a pointwise sum.Here also the decoder can accept a sequence of max length previously given.</li>"
   ]
  },
  {
   "cell_type": "markdown",
   "metadata": {},
   "source": [
    "<ul><li>The number of encoders dont need to be the same as the number of decoders.The input positional + token embedings are passed to all the stacked decoder layers. Each layer gets the encoded source sentence, along with the source and target masks. Please note that the encoder masks are used to mask attention over pad tokens and the target masks by the decoder is used to prevent the model from <i>cheating</i> by looking ahead the correct word before it even decodes it.</li>"
   ]
  },
  {
   "cell_type": "markdown",
   "metadata": {},
   "source": [
    "<ul><li>The final decoder layer has a output linear layer which applies softmax over the output to predict the most probable next word.</li>"
   ]
  },
  {
   "cell_type": "markdown",
   "metadata": {},
   "source": [
    "Lets implement the decoder class which implements the above, it will also use a DecoderBlock class to create a stack of decoder layers."
   ]
  },
  {
   "cell_type": "code",
   "execution_count": 42,
   "metadata": {},
   "outputs": [],
   "source": [
    "class Decoder(nn.Module):\n",
    "    \n",
    "    \n",
    "    def __init__(self,output_dimension,hidden_dimension,\n",
    "                num_decoder_layers,num_attn_heads,\n",
    "                pointwise_ff_dim,dropout,\n",
    "                 device,max_length = 100):\n",
    "        \n",
    "        super().__init__()\n",
    "        \n",
    "        self.device = device\n",
    "        \n",
    "        self.token_embeddings = nn.Embedding(output_dimension,hidden_dimension)\n",
    "        self.positional_embeddings = nn.Embedding(max_length,hidden_dimension)\n",
    "        \n",
    "        \n",
    "        self.decoder_blocks = nn.ModuleList([DecoderBlock(hidden_dimension,\n",
    "                                                         num_attn_heads,\n",
    "                                                         pointwise_ff_dim,\n",
    "                                                         dropout,device)\n",
    "                                           for _ in range(num_decoder_layers)])\n",
    "        \n",
    "        \n",
    "        self.fully_connected_op = nn.Linear(hidden_dimension,output_dimension)\n",
    "        self.dropout = nn.Dropout(dropout)\n",
    "        \n",
    "        self.scale = torch.sqrt(torch.FloatTensor([hidden_dimension])).to(device)\n",
    "    \n",
    "    \n",
    "    \n",
    "    def forward(self,target,encoder_src,source_mask,target_mask):\n",
    "        \n",
    "        batch_size = target.shape[0]\n",
    "        target_len = target.shape[1]\n",
    "        \n",
    "        #target = (bsiz,tlen)\n",
    "        #encoder_src = (bsiz,slen,hdim)\n",
    "        #target_mask = (bsiz,1,tlen,tlen)\n",
    "        #src_mask = (bsiz,1,1,slen)\n",
    "        \n",
    "        #positions same as the encoder\n",
    "        #if tlen = 4 and bsiz = 3, positions.repeat(batch_size,1) will give\n",
    "        #tensor([[0, 1, 2, 3, 4],\n",
    "        #        [0, 1, 2, 3, 4],\n",
    "        #        [0, 1, 2, 3, 4]])\n",
    "\n",
    "\n",
    "        positions = torch.arange(0,target_len).unsqueeze(0)\n",
    "        positions = positions.repeat(batch_size,1).to(self.device)\n",
    "        #positions = (bsiz,tlen)\n",
    "        \n",
    "        #get the embeddings for the token and multiply with sqrt(d_model) scale\n",
    "        target = self.token_embeddings(target)*self.scale\n",
    "        \n",
    "        #add the positional embeddings to the target\n",
    "        target = target + self.positional_embeddings(positions)\n",
    "        #target = (bsiz,tlen,hid_dim)\n",
    "        \n",
    "        \n",
    "        #apply dropout\n",
    "        target = self.dropout(target)\n",
    "        #target = (bsiz,tlen,hid_dim)\n",
    "        \n",
    "        for decoder_block in self.decoder_blocks:\n",
    "            target,attention = decoder_block(target,encoder_src,\n",
    "                                             source_mask,target_mask)\n",
    "            \n",
    "        #target = (bsize,tlen,hdim)\n",
    "        #attention = (bsize,num_att_heads,tlen,slen)\n",
    "        \n",
    "        output = self.fully_connected_op(target)\n",
    "        #output = (bsize,tlen,output_dim)\n",
    "        \n",
    "        return output,attention"
   ]
  },
  {
   "cell_type": "markdown",
   "metadata": {},
   "source": [
    "<h3> Decoder Block </h3>"
   ]
  },
  {
   "cell_type": "markdown",
   "metadata": {},
   "source": [
    "The decoder block is almost same as the encoder block,and uses the same concepts only in a different way. As seen in the previous part and decoder image, it uses cross attention to use encoder representations of different key and value vectors and uses decoder representations for query vectors in the cross attention section."
   ]
  },
  {
   "cell_type": "markdown",
   "metadata": {},
   "source": [
    "<img src = './images/transformer-decoder.png'>"
   ]
  },
  {
   "cell_type": "markdown",
   "metadata": {},
   "source": [
    "Like the encoder_block, the decoder_block also uses layer normalizations and residual connections as a part of its architecture,shown in the diagram above."
   ]
  },
  {
   "cell_type": "markdown",
   "metadata": {},
   "source": [
    "The steps used in DecoderBlock are as follows : <br> <br>\n",
    "\n",
    "<ul> \n",
    "    <li>Step 1 : The decoderblock gets input as embeddings of size hidden_dimensions for each of the tokens in the sequence.</li><br>\n",
    "    <li>Step 2 :Apply decoder MHSA to get the key,query and value representations of the target using decoder attention.</li><br>\n",
    "    <li>Step 3 :Add a residual connection from the decoder MHSA input and add it to the decoder MHSA output, and apply decoder's Self attention Layer Normalization.</li><br>\n",
    "    <li>Step 4 :Now, pass the output of the previous layer to the encoder cross attention, using Key and Value from the encoder source and query from the target</li><br>\n",
    "    <li>Step 5 :Add a residual connection and apply encoder's cross attention layer normalization</li><br>\n",
    "    <li>Step 6 :Pass the outputs through a point wise feed forward network</li><br>\n",
    "    <li>Step 7 :Add another residual connection from the encoder cross attention outputs and apply feed forward layer normalization</li>\n",
    "    "
   ]
  },
  {
   "cell_type": "code",
   "execution_count": null,
   "metadata": {},
   "outputs": [],
   "source": []
  },
  {
   "cell_type": "code",
   "execution_count": 43,
   "metadata": {},
   "outputs": [],
   "source": [
    "class DecoderBlock(nn.Module):\n",
    "    \n",
    "    def __init__(self,hidden_dimension,num_attn_heads,\n",
    "                pointwise_ff_dim,dropout,device):\n",
    "        \n",
    "        super().__init__()\n",
    "        \n",
    "        self.decoder_self_attn_layer_norm = nn.LayerNorm(hidden_dimension)\n",
    "        self.encoder_cross_attn_layer_norm = nn.LayerNorm(hidden_dimension)\n",
    "        self.feedForward_layer_norm = nn.LayerNorm(hidden_dimension)\n",
    "        \n",
    "        self.decoder_self_attention = MultiHeadSelfAttention(hidden_dimension,\n",
    "                                                            num_attn_heads,\n",
    "                                                            dropout,device)\n",
    "        \n",
    "        self.encoder_cross_attention = MultiHeadSelfAttention(hidden_dimension,\n",
    "                                                            num_attn_heads,\n",
    "                                                            dropout,device)\n",
    "        \n",
    "        self.pointWise_feedForward = PointWiseFeedForwardLayer(hidden_dimension,\n",
    "                                                              pointwise_ff_dim,\n",
    "                                                              dropout)\n",
    "        self.dropout = nn.Dropout(dropout)\n",
    "\n",
    "    def forward(self,target,encoder_source,source_mask,target_mask):\n",
    "\n",
    "        #target = (bsiz,tlen,hid_dim)\n",
    "        #encoder_src = (bsiz,slen,hdim)\n",
    "        #target_mask = (bsiz,1,tlen,tlen)\n",
    "        #src_mask = (bsiz,1,1,slen)\n",
    "        \n",
    "        \n",
    "        #STEP2 \n",
    "        #=====================================================#\n",
    "        #decoder self attention\n",
    "        #MHSA accepts input in (query,key,value,mask) format\n",
    "        tar_self_attention_contexts,tar_self_attention_scores = self.decoder_self_attention(target,target,target,\n",
    "                                                                          target_mask)\n",
    "        #=====================================================#\n",
    "        \n",
    "        \n",
    "        #STEP3\n",
    "        #=====================================================#\n",
    "        #dropout,residual skip connection and attn_layer norm(x+z)\n",
    "        tar_self_attention_contexts = self.dropout(tar_self_attention_contexts)\n",
    "        \n",
    "\n",
    "        target = self.decoder_self_attn_layer_norm(target + tar_self_attention_contexts)\n",
    "        #target = (bsiz,tlen,hdim)\n",
    "        #=====================================================#\n",
    "\n",
    "        \n",
    "        \n",
    "        #STEP4\n",
    "        #=====================================================#\n",
    "        #Encoder Cross Attention\n",
    "        #MHSA accepts input in (query,key,value,mask) format\n",
    "        tar_cross_attention_contexts,tar_cross_attention_scores = self.encoder_cross_attention(target,\n",
    "                                                                                            encoder_source,encoder_source,\n",
    "                                                                                            source_mask)\n",
    "        #=====================================================#\n",
    "        \n",
    "        \n",
    "        #STEP5\n",
    "        #=====================================================#\n",
    "        #encoder cross attn layer norm\n",
    "        tar_cross_attention_contexts = self.dropout(tar_cross_attention_contexts)\n",
    "        \n",
    "        target = self.encoder_cross_attn_layer_norm(target + tar_cross_attention_contexts)\n",
    "        #target = (bsiz,tlen,hdim)\n",
    "        #=====================================================#\n",
    "        \n",
    "        \n",
    "        #STEP6\n",
    "        #=====================================================#\n",
    "        #pointwise feedforward\n",
    "        tar_cross_attention_contexts = self.pointWise_feedForward(target)\n",
    "        #=====================================================#\n",
    "        \n",
    "        \n",
    "        #STEP7\n",
    "        #=====================================================#\n",
    "        #dropout,residual skip connection and ff_layer norm(x+z)\n",
    "        \n",
    "        tar_cross_attention_contexts = self.dropout(tar_cross_attention_contexts)\n",
    "        target = self.feedForward_layer_norm(target + tar_cross_attention_contexts)\n",
    "        \n",
    "        #=====================================================#\n",
    "        \n",
    "        #target = (bsiz,tlen,hdim)\n",
    "        #tar_cross_attention_scores = (bsiz,nheads,tlen,slen)\n",
    "        \n",
    "        return target,tar_cross_attention_scores"
   ]
  },
  {
   "cell_type": "markdown",
   "metadata": {},
   "source": [
    "<h3> Understanding the Source and Target Masks </h3>"
   ]
  },
  {
   "cell_type": "markdown",
   "metadata": {},
   "source": [
    "<b> Source Mask </b>"
   ]
  },
  {
   "cell_type": "markdown",
   "metadata": {},
   "source": [
    "The source mask is used to create masks wherever a pad token is present.\n",
    "We apply a <i>unsqueeze</i> operation to correctly broadcast the correct mask value to the right dimension.<br>\n",
    "It is applied on energy which is of shape \n",
    "<b><i>[batch_size,num_attn_heads,seq_len,seq_len]</b></i>"
   ]
  },
  {
   "cell_type": "markdown",
   "metadata": {},
   "source": [
    "It looks as follows:"
   ]
  },
  {
   "cell_type": "code",
   "execution_count": 44,
   "metadata": {},
   "outputs": [],
   "source": [
    "t_list = np.array(['<sos>','w1','w2','w3','w4','w5','<eos>','<pad>','<pad>','<pad>','<pad>','<pad>'])\n",
    "s_mask = np.where(1 ,t_list !='<pad>',0) "
   ]
  },
  {
   "cell_type": "code",
   "execution_count": 45,
   "metadata": {},
   "outputs": [
    {
     "name": "stdout",
     "output_type": "stream",
     "text": [
      "['<sos>' 'w1' 'w2' 'w3' 'w4' 'w5' '<eos>' '<pad>' '<pad>' '<pad>' '<pad>'\n",
      " '<pad>']\n",
      "[1 1 1 1 1 1 1 0 0 0 0 0]\n"
     ]
    }
   ],
   "source": [
    "print(t_list)\n",
    "print(s_mask)"
   ]
  },
  {
   "cell_type": "markdown",
   "metadata": {},
   "source": [
    "We see that places where the token is not pad, the corresponding mask is 1, and 0 wherever it is a pad token."
   ]
  },
  {
   "cell_type": "markdown",
   "metadata": {},
   "source": [
    "<b>Target Mask</b>"
   ]
  },
  {
   "cell_type": "markdown",
   "metadata": {},
   "source": [
    "The target mask is created in the way that it is not allowed to look at future words.<br>\n",
    "There are two masks created for the target mask,\n",
    "<br>\n",
    "<ul>\n",
    "    <li>Pad mask</li>\n",
    "    <li>Subsequent mask</li>\n",
    "</ul>\n",
    "        "
   ]
  },
  {
   "cell_type": "markdown",
   "metadata": {},
   "source": [
    "The pad mask is created in same way as done for the source mask."
   ]
  },
  {
   "cell_type": "markdown",
   "metadata": {},
   "source": [
    "To incorporate the time steps and avoid cheating, it is then logically anded with a <i>subsequent mask</i>."
   ]
  },
  {
   "cell_type": "code",
   "execution_count": 46,
   "metadata": {},
   "outputs": [
    {
     "data": {
      "text/plain": [
       "tensor([[1, 0, 0, 0, 0],\n",
       "        [1, 1, 0, 0, 0],\n",
       "        [1, 1, 1, 0, 0],\n",
       "        [1, 1, 1, 1, 0],\n",
       "        [1, 1, 1, 1, 1]], dtype=torch.int32)"
      ]
     },
     "execution_count": 46,
     "metadata": {},
     "output_type": "execute_result"
    }
   ],
   "source": [
    "#tril creates a lower triangular matrix\n",
    "torch.tril(torch.ones((5,5),dtype=torch.int))"
   ]
  },
  {
   "cell_type": "markdown",
   "metadata": {},
   "source": [
    "This shows what each target token (row) is allowed to look at (column). The first target token has a mask of <b>[1, 0, 0, 0, 0]</b> which means it can only look at the first target token. The second target token has a mask of <b>[1, 1, 0, 0, 0]</b> which it means it can look at both the first and second target tokens."
   ]
  },
  {
   "cell_type": "markdown",
   "metadata": {},
   "source": [
    "After the and operation, the mask might look as follows."
   ]
  },
  {
   "cell_type": "markdown",
   "metadata": {},
   "source": [
    "<img src ='./images/math.svg'>"
   ]
  },
  {
   "cell_type": "markdown",
   "metadata": {},
   "source": [
    "The 0's indicate both the pad tokens and the future time steps that have been masked."
   ]
  },
  {
   "cell_type": "markdown",
   "metadata": {},
   "source": [
    "After applying attention, the masking is done on the result of tensor product of Query and Key."
   ]
  },
  {
   "cell_type": "markdown",
   "metadata": {},
   "source": [
    "<img src = \"./images/masked_lm_demo.png\">"
   ]
  },
  {
   "cell_type": "markdown",
   "metadata": {},
   "source": [
    "<h3> Creating a Seq2Seq Model </h3>"
   ]
  },
  {
   "cell_type": "markdown",
   "metadata": {},
   "source": [
    "After creating the Encoder and Decoder stacks and understanding how to mask the source and target inputs. We can now connect all of them and create a sequence to sequence model which generates one word per time step till the end special token is reached."
   ]
  },
  {
   "cell_type": "code",
   "execution_count": 47,
   "metadata": {},
   "outputs": [],
   "source": [
    "class Seq2SeqModel(nn.Module):\n",
    "    \n",
    "    def __init__(self,encoder_stack,decoder_stack,\n",
    "                source_pad_idx,target_pad_idx,device):\n",
    "        \n",
    "        super().__init__()\n",
    "        \n",
    "        self.encoder_stack = encoder_stack\n",
    "        self.decoder_stack = decoder_stack\n",
    "        self.source_pad_index = source_pad_idx\n",
    "        self.target_pad_index = target_pad_idx\n",
    "        self.device = device        \n",
    "        \n",
    "    def get_source_mask(self,source):\n",
    "        \n",
    "        #source  = (bsize,source_len)\n",
    "        #for all indexes which are not pad indexes, make them 1 else 0\n",
    "        \n",
    "        source_mask = (source != self.source_pad_index)\n",
    "        \n",
    "        #unsqueeze(i) operation adds an i_th dimension to the item\n",
    "        \n",
    "        source_mask = source_mask.unsqueeze(1)\n",
    "        #source_mask = (bsize,1,source_len)\n",
    "        \n",
    "        source_mask = source_mask.unsqueeze(2)\n",
    "        #source_mask = (bsize,1,1,source_len)\n",
    "        \n",
    "        #this shape is reqd because it will be applied after calculating- \n",
    "        #the attention which has 4 dimensions (bsize,n_attn_heads,qlen,klen)\n",
    "        \n",
    "        return source_mask\n",
    "\n",
    "    def get_target_mask(self,target):\n",
    "        \n",
    "        #target = (bsize,target_len)\n",
    "        \n",
    "        #we'll be creating pad mask and subsequent mask for target\n",
    "        # as discussed in the above section\n",
    "        \n",
    "        target_pad_mask = (target != self.target_pad_index).unsqueeze(1).unsqueeze(2)\n",
    "        #target_pad_mask = (bsize,1,1,target_len)\n",
    "        \n",
    "        target_length = target.shape[1]\n",
    "        \n",
    "        target_subsequent_mask = torch.tril(torch.ones((target_length,target_length),\n",
    "                                                      device = self.device)).bool()\n",
    "        \n",
    "        #target_subsequent_mask = (target_len,target_len)\n",
    "\n",
    "        final_target_mask = target_subsequent_mask & target_pad_mask\n",
    "        # final_target_mask = (bsize,1,tlen,tlen)\n",
    "        \n",
    "        return final_target_mask\n",
    "    \n",
    "    \n",
    "    def forward(self,source,target):\n",
    "        \n",
    "        #source = (bsize,slen)\n",
    "        #target = (bsize,tlen)\n",
    "        \n",
    "        source_mask = self.get_source_mask(source)\n",
    "        target_mask = self.get_target_mask(target)\n",
    "        \n",
    "        #source_mask = (bsize,1,1,slen)\n",
    "        #target_mask = (bsize,1,tlen,tlen)\n",
    "        \n",
    "        encoder_output = self.encoder_stack(source,source_mask)\n",
    "        #encoder_op = (bsize,slen,hdim)\n",
    "        \n",
    "        decoder_output,decoder_attention = self.decoder_stack(target,\n",
    "                                                             encoder_output,\n",
    "                                                             source_mask,target_mask)\n",
    "        \n",
    "        #decoder_output = (bsiz,tlen,output_dim)\n",
    "        #decoder_attention = (bsize,num_attn_heads,tlen,slen)\n",
    "        \n",
    "        return decoder_output,decoder_attention"
   ]
  },
  {
   "cell_type": "markdown",
   "metadata": {},
   "source": [
    "Get the index of source and target pad tokens, they will help in identifying the indices which are paddings and will be used to mask those indices."
   ]
  },
  {
   "cell_type": "code",
   "execution_count": 48,
   "metadata": {},
   "outputs": [
    {
     "data": {
      "text/plain": [
       "'<pad>'"
      ]
     },
     "execution_count": 48,
     "metadata": {},
     "output_type": "execute_result"
    }
   ],
   "source": [
    "s_pad_token = source_process_pipeline.pad_token\n",
    "s_pad_token"
   ]
  },
  {
   "cell_type": "code",
   "execution_count": 49,
   "metadata": {},
   "outputs": [
    {
     "data": {
      "text/plain": [
       "'<pad>'"
      ]
     },
     "execution_count": 49,
     "metadata": {},
     "output_type": "execute_result"
    }
   ],
   "source": [
    "t_pad_token = target_process_pipeline.pad_token\n",
    "t_pad_token"
   ]
  },
  {
   "cell_type": "code",
   "execution_count": 50,
   "metadata": {},
   "outputs": [
    {
     "data": {
      "text/plain": [
       "1"
      ]
     },
     "execution_count": 50,
     "metadata": {},
     "output_type": "execute_result"
    }
   ],
   "source": [
    "source_process_pipeline.vocab.stoi[s_pad_token]"
   ]
  },
  {
   "cell_type": "code",
   "execution_count": 51,
   "metadata": {},
   "outputs": [],
   "source": [
    "source_pad_index = source_process_pipeline.vocab.stoi[s_pad_token]\n",
    "target_pad_index = target_process_pipeline.vocab.stoi[t_pad_token]"
   ]
  },
  {
   "cell_type": "markdown",
   "metadata": {},
   "source": [
    "The below class is used to configure model by applying weight initializations and getting the model details."
   ]
  },
  {
   "cell_type": "code",
   "execution_count": 52,
   "metadata": {},
   "outputs": [],
   "source": [
    "class ConfigureModel(nn.Module):\n",
    "    \n",
    "    def __init__(self,model):\n",
    "        \n",
    "        super().__init__()\n",
    "        self.model = model\n",
    "                   \n",
    "    def get_model_details(self):\n",
    "        \n",
    "        total_param = sum(p.numel() for p in self.model.parameters())\n",
    "        trainable_param = sum(p.numel() for p in self.model.parameters() if p.requires_grad)\n",
    "        \n",
    "        return total_param,trainable_param\n",
    "    \n",
    "    def init_xavier_uniform(self,m):\n",
    "        \n",
    "        if hasattr(m, 'weight') and m.weight.dim() > 1:\n",
    "            nn.init.xavier_uniform_(m.weight.data)\n",
    "            \n",
    "    def initialize_model_weights(self):\n",
    "        \n",
    "        self.model.apply(self.init_xavier_uniform)\n",
    "        return self.model\n"
   ]
  },
  {
   "cell_type": "code",
   "execution_count": 53,
   "metadata": {},
   "outputs": [],
   "source": [
    "INPUT_VOCAB_SIZE = len(source_process_pipeline.vocab)\n",
    "OUTPUT_VOCAB_SIZE = len(target_process_pipeline.vocab)\n",
    "\n",
    "HIDDEN_DIMENSION = 256\n",
    "ENCODER_POINTWISE_FF_DIM = 512\n",
    "DECODER_POINTWISE_FF_DIM = 512\n",
    "\n",
    "NUM_ENCODER_LAYERS = 4\n",
    "NUM_DECODER_LAYERS = 4\n",
    "\n",
    "NUM_ENCODER_ATTN_HEADS = 8\n",
    "NUM_DECODER_ATTN_HEADS = 8\n",
    "\n",
    "ENCODER_DROPOUT = 0.1\n",
    "DECODER_DROPOUT = 0.1\n"
   ]
  },
  {
   "cell_type": "markdown",
   "metadata": {},
   "source": [
    "Create the Encoder and Decoder stack with the above configurations, these stacks will then be used in combination for our sequence to sequence model."
   ]
  },
  {
   "cell_type": "code",
   "execution_count": 54,
   "metadata": {},
   "outputs": [],
   "source": [
    "encoder_stack = Encoder(INPUT_VOCAB_SIZE,HIDDEN_DIMENSION,\n",
    "                 NUM_ENCODER_LAYERS,NUM_ENCODER_ATTN_HEADS,ENCODER_POINTWISE_FF_DIM,\n",
    "                 ENCODER_DROPOUT,device)\n",
    "\n",
    "decoder_stack = Decoder(OUTPUT_VOCAB_SIZE,HIDDEN_DIMENSION,\n",
    "                 NUM_DECODER_LAYERS,NUM_DECODER_ATTN_HEADS,DECODER_POINTWISE_FF_DIM,\n",
    "                 DECODER_DROPOUT,device)"
   ]
  },
  {
   "cell_type": "markdown",
   "metadata": {},
   "source": [
    "The final transformer model combines the encoder and decoder stack and uses the pad indices of source and target to create the corresponding masks before passing through the encoders and decoders."
   ]
  },
  {
   "cell_type": "code",
   "execution_count": 55,
   "metadata": {},
   "outputs": [],
   "source": [
    "transformer_model = Seq2SeqModel(encoder_stack,decoder_stack,\n",
    "                                source_pad_index,target_pad_index,device).to(device)"
   ]
  },
  {
   "cell_type": "code",
   "execution_count": 56,
   "metadata": {},
   "outputs": [],
   "source": [
    "cm = ConfigureModel(transformer_model)"
   ]
  },
  {
   "cell_type": "code",
   "execution_count": 57,
   "metadata": {},
   "outputs": [
    {
     "name": "stdout",
     "output_type": "stream",
     "text": [
      "The number of trainable parameters in model are 10,356,485\n"
     ]
    }
   ],
   "source": [
    "params = cm.get_model_details()\n",
    "print(f'The number of trainable parameters in model are {params[0]:,}')"
   ]
  },
  {
   "cell_type": "code",
   "execution_count": 58,
   "metadata": {},
   "outputs": [],
   "source": [
    "transformer_model = cm.initialize_model_weights()"
   ]
  },
  {
   "cell_type": "markdown",
   "metadata": {},
   "source": [
    "We'll use Adam Optimizer with fixed learning rate as used in BERT and other transformer models, in the  <a href = \"https://arxiv.org/abs/1706.03762\">paper</a> they have used a variable learning rate which has a warmup and cool down period."
   ]
  },
  {
   "cell_type": "markdown",
   "metadata": {},
   "source": [
    "We also need to keep the learning rate low so that learning is stable and doesn't show a large stochastic behaviour.\n",
    "<br><br>\n",
    "Since we are predicting the next word from a set of words, it is a classification type problem, and hence the loss function we'll be using will be CrossEntropyLoss.\n",
    "<br>\n",
    "We'll be setting ignore index to be the index of the pad token. <i>( Ignore Index Specifies a target value that is ignored and does not contribute to the input gradient. When size_average is True, the loss is averaged over non-ignored targets.)</i><br>\n",
    "For more details see <br>\n",
    "https://pytorch.org/docs/stable/generated/torch.nn.CrossEntropyLoss.html <br>\n",
    "This is done so that we can ignore the loss incurred over pad tokens."
   ]
  },
  {
   "cell_type": "code",
   "execution_count": 59,
   "metadata": {},
   "outputs": [],
   "source": [
    "LR = 5 * 1e-4\n",
    "\n",
    "optimizer = torch.optim.Adam(transformer_model.parameters(),lr = LR)\n",
    "\n",
    "loss_criterion = nn.CrossEntropyLoss(ignore_index = target_pad_index)"
   ]
  },
  {
   "cell_type": "markdown",
   "metadata": {},
   "source": [
    "<b> Training</b>"
   ]
  },
  {
   "cell_type": "markdown",
   "metadata": {},
   "source": [
    "We want our model to keep predicting till the <i>eos</i> token is reached,but we dont want our model to see this before hand,and want the model to learn when to generate it on its own. "
   ]
  },
  {
   "cell_type": "markdown",
   "metadata": {},
   "source": [
    "So while feeding it to the network, we'll slice it (the last index) off. "
   ]
  },
  {
   "cell_type": "markdown",
   "metadata": {},
   "source": [
    "<img src = \"./images/target_1.svg\">"
   ]
  },
  {
   "cell_type": "markdown",
   "metadata": {},
   "source": [
    "In the above list x_i's denote what the model is supposed to predict, and in the below list y_i's are what the model predicted."
   ]
  },
  {
   "cell_type": "markdown",
   "metadata": {},
   "source": [
    "While calculating the loss we use the original target tensor with <i>sos</i> tag removed."
   ]
  },
  {
   "cell_type": "markdown",
   "metadata": {},
   "source": [
    "<img src =\"./images/target_2.svg\">"
   ]
  },
  {
   "cell_type": "code",
   "execution_count": 60,
   "metadata": {},
   "outputs": [],
   "source": [
    "def get_loss(output,target,loss_criterion):\n",
    "    \n",
    "    output_dim = output.shape[-1]\n",
    "    \n",
    "    output = output.contiguous().view(-1,output_dim)\n",
    "    target = target[:,1:].contiguous().view(-1)\n",
    "    \n",
    "    #output = [bsize * tlen - 1, output dim]\n",
    "    #target = [bsize * tlen - 1]\n",
    "    \n",
    "    loss = loss_criterion(output,target)\n",
    "\n",
    "    return loss\n",
    "\n",
    "\n",
    "def train_one_epoch(transformer_model,train_iterator,\n",
    "                    optimizer,loss_criterion,clip = 1):\n",
    "    \n",
    "    #set the model in training mode\n",
    "    transformer_model.train()\n",
    "    single_epoch_loss = 0\n",
    "    \n",
    "    for it_idx,batch in enumerate(train_iterator):\n",
    "        \n",
    "        source = batch.src\n",
    "        target = batch.trg\n",
    "        \n",
    "        \n",
    "        #see https://stackoverflow.com/questions/48001598/why-do-we-need-to-call-zero-grad-in-pytorch\n",
    "        optimizer.zero_grad()\n",
    "        \n",
    "        decoder_output , _ = transformer_model(source,target[:,:-1])\n",
    "        #decoder_output = (bsize,tlen-1,op_dim)\n",
    "        #target = (bsize,tlen)\n",
    "        \n",
    "        \n",
    "        loss = get_loss(decoder_output,target,loss_criterion)\n",
    "        \n",
    "        #backpropagate the gradients\n",
    "        loss.backward()\n",
    "        \n",
    "        #clip the gradients so that they dont explode(their norm remains <= 1)\n",
    "        nn.utils.clip_grad_norm_(transformer_model.parameters(),clip)\n",
    "        \n",
    "        optimizer.step()\n",
    "        \n",
    "        single_epoch_loss += loss.item()\n",
    "        \n",
    "    return single_epoch_loss / len(train_iterator)"
   ]
  },
  {
   "cell_type": "code",
   "execution_count": 61,
   "metadata": {},
   "outputs": [],
   "source": [
    "def perform_validation(transformer_model,validation_iterator,loss_criterion):\n",
    "    \n",
    "    #set the model to evaluation mode\n",
    "    #model.eval() is a kind of switch for some specific layers/parts of the model\n",
    "    #that behave differently during training and inference (evaluating) time.\n",
    "    \n",
    "    transformer_model.eval()\n",
    "    validation_loss = 0 \n",
    "    \n",
    "    \n",
    "    #see https://pytorch.org/docs/stable/generated/torch.no_grad.html\n",
    "    with torch.no_grad():\n",
    "          for it_idx,batch in enumerate(validation_iterator):\n",
    "        \n",
    "                source = batch.src\n",
    "                target = batch.trg\n",
    "\n",
    "                decoder_output , _ = transformer_model(source,target[:,:-1])\n",
    "                #decoder_output = (bsize,tlen-1,op_dim)\n",
    "                #target = (bsize,tlen)\n",
    "\n",
    "                loss = get_loss(decoder_output,target,loss_criterion)\n",
    "\n",
    "                validation_loss += loss.item()\n",
    "\n",
    "    return validation_loss / len(validation_iterator)"
   ]
  },
  {
   "cell_type": "markdown",
   "metadata": {},
   "source": [
    "<h3> Translating a sentence </h3>"
   ]
  },
  {
   "cell_type": "markdown",
   "metadata": {},
   "source": [
    "We should be able translate any source sentence, so we create a function which translates a sentence using the transformer model. This is also useful in understanding the learning stages of the model which can prove to be useful while model understanding and debugging should any such need arises.  "
   ]
  },
  {
   "cell_type": "code",
   "execution_count": 62,
   "metadata": {},
   "outputs": [],
   "source": [
    "def translate_sentence(source_sentence,source_field,target_field,source_tokenizer,\n",
    "                       transformer_model,device,max_length = 50,verbose = True):\n",
    "    \n",
    "    \n",
    "    start = time()\n",
    "    \n",
    "    transformer_model.eval()\n",
    "    \n",
    "    \n",
    "    #step 1 tokenize the source sentence if it has not been tokenized (is a string)\n",
    "    \n",
    "    if isinstance(source_sentence,str) and source_tokenizer is not None:\n",
    "        source_tokens = [token.text.lower() for token in source_tokenizer(source_sentence)]\n",
    "    else:\n",
    "        source_tokens = [token.lower() for token in source_sentence]\n",
    "        \n",
    "    #step 2  append the sos and eos tokens\n",
    "    source_tokens = [source_field.init_token] + source_tokens + [source_field.eos_token]\n",
    "    \n",
    "    #step 3 numericalize the source sentence\n",
    "    source_to_idx = [source_field.vocab.stoi[token] for token in source_tokens]\n",
    "    \n",
    "    \n",
    "    #step 4 convert it to a tensor and add a batch dimension\n",
    "    source_tensor = torch.LongTensor(source_to_idx).unsqueeze(0).to(device)\n",
    "    \n",
    "    #step 5 create the source sentence mask\n",
    "    source_mask = transformer_model.get_source_mask(source_tensor)\n",
    "    \n",
    "    #step 6 feed the source sentence and mask into the encoder\n",
    "    with torch.no_grad():\n",
    "        encoder_output = transformer_model.encoder_stack(source_tensor,source_mask)\n",
    "    \n",
    "    #step 7 create a list to hold the output sentence, initialized with an sos token\n",
    "    target_to_idx = [target_field.vocab.stoi[target_field.init_token]]\n",
    "    #as of now target_to_idx only holds the index of sos token \n",
    "    \n",
    "    #step 8 while we have not hit a maximum length\n",
    "    i = 0\n",
    "    eos_token_index = target_field.vocab.stoi[target_field.eos_token]\n",
    "    \n",
    "    while i < max_length:\n",
    "        \n",
    "        #step 8.1 convert the current output sentence prediction into a tensor with a batch dimension\n",
    "        target_tensor = torch.LongTensor(target_to_idx).unsqueeze(0).to(device)\n",
    "        \n",
    "        #step 8.2 create a target sentence mask\n",
    "        target_mask = transformer_model.get_target_mask(target_tensor)\n",
    "        \n",
    "        #step 8.3 place the current output, encoder output and both masks into the decoder\n",
    "        with torch.no_grad():\n",
    "            decoder_output,decoder_attention = transformer_model.decoder_stack(target_tensor,\n",
    "                                                                              encoder_output,\n",
    "                                                                              source_mask,target_mask)\n",
    "        \n",
    "        #step 8.4 get next output token prediction from decoder along with attention\n",
    "        next_predicted_token = decoder_output.argmax(2)[:,-1].item()\n",
    "        \n",
    "        #step 8.5  add prediction to current output sentence prediction\n",
    "        target_to_idx.append(next_predicted_token)\n",
    "        \n",
    "        #step 8.6 break if the prediction was an <eos> token\n",
    "        if next_predicted_token == eos_token_index:\n",
    "            break\n",
    "        i+=1 \n",
    "    \n",
    "    end = time()\n",
    "    \n",
    "    #step 9 convert the output sentence from indexes to tokens\n",
    "    target_tokens = [target_field.vocab.itos[idx] for idx in target_to_idx]\n",
    "    \n",
    "    if verbose is True:\n",
    "        print(f'Time taken to translate {end - start} seconds')\n",
    "    \n",
    "    # step 10 return the output sentence (with the <sos> token removed) and the attention from the last layer\n",
    "    return target_tokens[1:-1],decoder_attention"
   ]
  },
  {
   "cell_type": "code",
   "execution_count": null,
   "metadata": {},
   "outputs": [],
   "source": []
  },
  {
   "cell_type": "markdown",
   "metadata": {},
   "source": [
    "\n",
    "<h3> Training loop </h3>"
   ]
  },
  {
   "cell_type": "code",
   "execution_count": 63,
   "metadata": {},
   "outputs": [],
   "source": [
    "def train(transformer_model,num_epochs,\n",
    "          train_iterator,validation_iterator,\n",
    "          loss_criterion,clip,\n",
    "          source_field,target_field,\n",
    "          source_tokenizer,\n",
    "          actual_sentence,target_sentence,\n",
    "         device):\n",
    "    \n",
    "    \n",
    "        \n",
    "    train_losses = []\n",
    "    validation_losses = []\n",
    "    perplexity_train = []\n",
    "    perplexity_validation = []\n",
    "\n",
    "    best_validation_loss = float('inf')\n",
    "    \n",
    "    print(NUM_EPOCHS)\n",
    "    \n",
    "    writer = SummaryWriter(f'runs/loss_plot')\n",
    "    step = 0\n",
    "\n",
    "    for epoch in tqdm(range(num_epochs)):\n",
    "        start = time()\n",
    "\n",
    "        train_loss = train_one_epoch(transformer_model,train_iterator,\n",
    "                                    optimizer,loss_criterion,clip)\n",
    "\n",
    "\n",
    "        validation_loss = perform_validation(transformer_model,validation_iterator,\n",
    "                                            loss_criterion)\n",
    "        \n",
    "        \n",
    "        end = time()\n",
    "\n",
    "        if validation_loss < best_validation_loss:\n",
    "            best_validation_loss = validation_loss\n",
    "            torch.save(transformer_model.state_dict(),'transformer_model(ge-eng).pt')\n",
    "\n",
    "        \n",
    "        model_translation,_ = translate_sentence(actual_sentence,\n",
    "                                               source_field,target_field,\n",
    "                                               source_tokenizer,\n",
    "                                               transformer_model,device,\n",
    "                                               max_length = 50,verbose = True)\n",
    "\n",
    "        \n",
    "        train_perplexity = math.exp(train_loss)\n",
    "        val_perplexity = math.exp(validation_loss)\n",
    "        \n",
    "        \n",
    "        print('*'*50)\n",
    "        print(f'Actual Sentence : \\n{actual_sentence.split()}')\n",
    "        print(f'Actual Translation : \\n{target_sentence.split()}')\n",
    "        print(f'Model Prediction : \\n{model_translation}')\n",
    "        print('*'*50)\n",
    "        \n",
    "        print('='*50)\n",
    "        print(f'Epoch: {epoch+1:02}')\n",
    "        print(f'\\tTrain Loss: {train_loss:.3f} | Train perplexity: {train_perplexity:7.3f}')\n",
    "        print(f'\\t Validation Loss: {validation_loss:.3f} |  validation perplexity: {val_perplexity:7.3f}')\n",
    "        print(f'Time for epoch: {end - start} seconds')\n",
    "        print('='*50)\n",
    "\n",
    "                \n",
    "        train_losses.append(train_loss)\n",
    "        validation_losses.append(validation_loss)\n",
    "        perplexity_train.append(train_perplexity)\n",
    "        perplexity_validation.append(val_perplexity)\n",
    "        \n",
    "        writer.add_scalar('Training_loss',train_loss,global_step = step)\n",
    "        step+=1\n",
    "\n",
    "    return train_losses,validation_losses,perplexity_train,perplexity_validation\n"
   ]
  },
  {
   "cell_type": "markdown",
   "metadata": {},
   "source": [
    "During each epoch a sample test sentence is translated just to visualize how well the model has learnt to translate a sentence."
   ]
  },
  {
   "cell_type": "code",
   "execution_count": 64,
   "metadata": {
    "scrolled": false
   },
   "outputs": [
    {
     "name": "stdout",
     "output_type": "stream",
     "text": [
      "11\n"
     ]
    },
    {
     "data": {
      "application/vnd.jupyter.widget-view+json": {
       "model_id": "14146b9eb45a4ca194eac96d6534f857",
       "version_major": 2,
       "version_minor": 0
      },
      "text/plain": [
       "HBox(children=(FloatProgress(value=0.0, max=11.0), HTML(value='')))"
      ]
     },
     "metadata": {},
     "output_type": "display_data"
    },
    {
     "name": "stdout",
     "output_type": "stream",
     "text": [
      "Time taken to translate 0.31977152824401855 seconds\n",
      "**************************************************\n",
      "Actual Sentence : \n",
      "['eine', 'mutter', 'und', 'ihr', 'kleiner', 'sohn', 'genießen', 'einen', 'schönen', 'tag', 'im', 'freien.']\n",
      "Actual Translation : \n",
      "['a', 'mother', 'and', 'her', 'young', 'song', 'enjoying', 'a', 'beautiful', 'day', 'outside.']\n",
      "Model Prediction : \n",
      "['a', 'person', 'and', 'a', 'child', 'are', 'sitting', 'on', 'a', 'sidewalk', '.']\n",
      "**************************************************\n",
      "==================================================\n",
      "Epoch: 01\n",
      "\tTrain Loss: 4.412 | Train perplexity:  82.456\n",
      "\t Validation Loss: 3.248 |  validation perplexity:  25.743\n",
      "Time for epoch: 36.68290901184082 seconds\n",
      "==================================================\n",
      "Time taken to translate 0.11999678611755371 seconds\n",
      "**************************************************\n",
      "Actual Sentence : \n",
      "['eine', 'mutter', 'und', 'ihr', 'kleiner', 'sohn', 'genießen', 'einen', 'schönen', 'tag', 'im', 'freien.']\n",
      "Actual Translation : \n",
      "['a', 'mother', 'and', 'her', 'young', 'song', 'enjoying', 'a', 'beautiful', 'day', 'outside.']\n",
      "Model Prediction : \n",
      "['a', 'small', 'couple', 'and', 'a', 'child', 'are', 'walking', 'down', 'a', 'street', '.']\n",
      "**************************************************\n",
      "==================================================\n",
      "Epoch: 02\n",
      "\tTrain Loss: 3.110 | Train perplexity:  22.422\n",
      "\t Validation Loss: 2.746 |  validation perplexity:  15.577\n",
      "Time for epoch: 34.30966877937317 seconds\n",
      "==================================================\n",
      "Time taken to translate 0.12996482849121094 seconds\n",
      "**************************************************\n",
      "Actual Sentence : \n",
      "['eine', 'mutter', 'und', 'ihr', 'kleiner', 'sohn', 'genießen', 'einen', 'schönen', 'tag', 'im', 'freien.']\n",
      "Actual Translation : \n",
      "['a', 'mother', 'and', 'her', 'young', 'song', 'enjoying', 'a', 'beautiful', 'day', 'outside.']\n",
      "Model Prediction : \n",
      "['a', 'little', 'girl', 'and', 'mother', 'are', 'walking', 'down', 'a', 'path', 'in', 'the', 'woods', '.']\n",
      "**************************************************\n",
      "==================================================\n",
      "Epoch: 03\n",
      "\tTrain Loss: 2.666 | Train perplexity:  14.380\n",
      "\t Validation Loss: 2.475 |  validation perplexity:  11.884\n",
      "Time for epoch: 34.160839557647705 seconds\n",
      "==================================================\n",
      "Time taken to translate 0.12699103355407715 seconds\n",
      "**************************************************\n",
      "Actual Sentence : \n",
      "['eine', 'mutter', 'und', 'ihr', 'kleiner', 'sohn', 'genießen', 'einen', 'schönen', 'tag', 'im', 'freien.']\n",
      "Actual Translation : \n",
      "['a', 'mother', 'and', 'her', 'young', 'song', 'enjoying', 'a', 'beautiful', 'day', 'outside.']\n",
      "Model Prediction : \n",
      "['a', 'mother', 'and', 'a', 'mother', 'walk', 'down', 'the', 'beautiful', 'day', '.']\n",
      "**************************************************\n",
      "==================================================\n",
      "Epoch: 04\n",
      "\tTrain Loss: 2.360 | Train perplexity:  10.590\n",
      "\t Validation Loss: 2.269 |  validation perplexity:   9.667\n",
      "Time for epoch: 35.279236793518066 seconds\n",
      "==================================================\n",
      "Time taken to translate 0.16499733924865723 seconds\n",
      "**************************************************\n",
      "Actual Sentence : \n",
      "['eine', 'mutter', 'und', 'ihr', 'kleiner', 'sohn', 'genießen', 'einen', 'schönen', 'tag', 'im', 'freien.']\n",
      "Actual Translation : \n",
      "['a', 'mother', 'and', 'her', 'young', 'song', 'enjoying', 'a', 'beautiful', 'day', 'outside.']\n",
      "Model Prediction : \n",
      "['a', 'mother', 'and', 'her', 'mother', 'walk', 'down', 'a', 'sunny', 'day', '.']\n",
      "**************************************************\n",
      "==================================================\n",
      "Epoch: 05\n",
      "\tTrain Loss: 2.076 | Train perplexity:   7.975\n",
      "\t Validation Loss: 2.069 |  validation perplexity:   7.920\n",
      "Time for epoch: 36.509071350097656 seconds\n",
      "==================================================\n",
      "Time taken to translate 0.09896254539489746 seconds\n",
      "**************************************************\n",
      "Actual Sentence : \n",
      "['eine', 'mutter', 'und', 'ihr', 'kleiner', 'sohn', 'genießen', 'einen', 'schönen', 'tag', 'im', 'freien.']\n",
      "Actual Translation : \n",
      "['a', 'mother', 'and', 'her', 'young', 'song', 'enjoying', 'a', 'beautiful', 'day', 'outside.']\n",
      "Model Prediction : \n",
      "['a', 'mother', 'and', 'her', 'mother', 'enjoying', 'a', 'beautiful', 'day', '.']\n",
      "**************************************************\n",
      "==================================================\n",
      "Epoch: 06\n",
      "\tTrain Loss: 1.822 | Train perplexity:   6.183\n",
      "\t Validation Loss: 1.906 |  validation perplexity:   6.726\n",
      "Time for epoch: 37.55660700798035 seconds\n",
      "==================================================\n",
      "Time taken to translate 0.10199832916259766 seconds\n",
      "**************************************************\n",
      "Actual Sentence : \n",
      "['eine', 'mutter', 'und', 'ihr', 'kleiner', 'sohn', 'genießen', 'einen', 'schönen', 'tag', 'im', 'freien.']\n",
      "Actual Translation : \n",
      "['a', 'mother', 'and', 'her', 'young', 'song', 'enjoying', 'a', 'beautiful', 'day', 'outside.']\n",
      "Model Prediction : \n",
      "['a', 'mother', 'and', 'her', 'son', 'enjoying', 'a', 'beautiful', 'day', 'outdoors', '.']\n",
      "**************************************************\n",
      "==================================================\n",
      "Epoch: 07\n",
      "\tTrain Loss: 1.597 | Train perplexity:   4.939\n",
      "\t Validation Loss: 1.821 |  validation perplexity:   6.175\n",
      "Time for epoch: 38.32285690307617 seconds\n",
      "==================================================\n",
      "Time taken to translate 0.12996339797973633 seconds\n",
      "**************************************************\n",
      "Actual Sentence : \n",
      "['eine', 'mutter', 'und', 'ihr', 'kleiner', 'sohn', 'genießen', 'einen', 'schönen', 'tag', 'im', 'freien.']\n",
      "Actual Translation : \n",
      "['a', 'mother', 'and', 'her', 'young', 'song', 'enjoying', 'a', 'beautiful', 'day', 'outside.']\n",
      "Model Prediction : \n",
      "['a', 'mother', 'and', 'her', 'son', 'enjoying', 'a', 'beautiful', 'day', 'outside', 'on', 'the', 'day', '.']\n",
      "**************************************************\n",
      "==================================================\n",
      "Epoch: 08\n",
      "\tTrain Loss: 1.417 | Train perplexity:   4.126\n",
      "\t Validation Loss: 1.755 |  validation perplexity:   5.784\n",
      "Time for epoch: 39.052929401397705 seconds\n",
      "==================================================\n",
      "Time taken to translate 0.10598015785217285 seconds\n",
      "**************************************************\n",
      "Actual Sentence : \n",
      "['eine', 'mutter', 'und', 'ihr', 'kleiner', 'sohn', 'genießen', 'einen', 'schönen', 'tag', 'im', 'freien.']\n",
      "Actual Translation : \n",
      "['a', 'mother', 'and', 'her', 'young', 'song', 'enjoying', 'a', 'beautiful', 'day', 'outside.']\n",
      "Model Prediction : \n",
      "['a', 'mother', 'and', 'her', 'son', 'enjoying', 'a', 'beautiful', 'day', 'outdoors', '.']\n",
      "**************************************************\n",
      "==================================================\n",
      "Epoch: 09\n",
      "\tTrain Loss: 1.272 | Train perplexity:   3.569\n",
      "\t Validation Loss: 1.710 |  validation perplexity:   5.531\n",
      "Time for epoch: 38.497931718826294 seconds\n",
      "==================================================\n",
      "Time taken to translate 0.10899758338928223 seconds\n",
      "**************************************************\n",
      "Actual Sentence : \n",
      "['eine', 'mutter', 'und', 'ihr', 'kleiner', 'sohn', 'genießen', 'einen', 'schönen', 'tag', 'im', 'freien.']\n",
      "Actual Translation : \n",
      "['a', 'mother', 'and', 'her', 'young', 'song', 'enjoying', 'a', 'beautiful', 'day', 'outside.']\n",
      "Model Prediction : \n",
      "['a', 'mother', 'and', 'her', 'son', 'enjoy', 'a', 'beautiful', 'day', '.']\n",
      "**************************************************\n",
      "==================================================\n",
      "Epoch: 10\n",
      "\tTrain Loss: 1.153 | Train perplexity:   3.168\n",
      "\t Validation Loss: 1.708 |  validation perplexity:   5.515\n",
      "Time for epoch: 39.81792235374451 seconds\n",
      "==================================================\n",
      "Time taken to translate 0.10596585273742676 seconds\n",
      "**************************************************\n",
      "Actual Sentence : \n",
      "['eine', 'mutter', 'und', 'ihr', 'kleiner', 'sohn', 'genießen', 'einen', 'schönen', 'tag', 'im', 'freien.']\n",
      "Actual Translation : \n",
      "['a', 'mother', 'and', 'her', 'young', 'song', 'enjoying', 'a', 'beautiful', 'day', 'outside.']\n",
      "Model Prediction : \n",
      "['a', 'mother', 'and', 'her', 'son', 'enjoying', 'a', 'beautiful', 'day', 'outside', '.']\n",
      "**************************************************\n",
      "==================================================\n",
      "Epoch: 11\n",
      "\tTrain Loss: 1.051 | Train perplexity:   2.861\n",
      "\t Validation Loss: 1.723 |  validation perplexity:   5.599\n",
      "Time for epoch: 39.90203404426575 seconds\n",
      "==================================================\n",
      "\n"
     ]
    }
   ],
   "source": [
    "NUM_EPOCHS = 11\n",
    "GRADIENT_CLIP = 1\n",
    "\n",
    "\n",
    "source_test_sentence = 'eine mutter und ihr kleiner sohn genießen einen schönen tag im freien.' \n",
    "target_translation = 'a mother and her young song enjoying a beautiful day outside.'\n",
    "\n",
    "history = train(transformer_model,NUM_EPOCHS,\n",
    "          train_iterator,validation_iterator,\n",
    "          loss_criterion,GRADIENT_CLIP,\n",
    "          source_process_pipeline,target_process_pipeline,\n",
    "          spacy_german,\n",
    "          source_test_sentence,target_translation,device)"
   ]
  },
  {
   "cell_type": "code",
   "execution_count": 65,
   "metadata": {},
   "outputs": [
    {
     "data": {
      "image/png": "[encoded data removed]",
      "text/plain": [
       "<Figure size 432x288 with 1 Axes>"
      ]
     },
     "metadata": {},
     "output_type": "display_data"
    }
   ],
   "source": [
    "import matplotlib.pyplot as plt\n",
    "\n",
    "# summarize history for loss\n",
    "plt.plot(history[0])\n",
    "plt.plot(history[1])\n",
    "plt.title('model loss')\n",
    "plt.ylabel('loss')\n",
    "plt.xlabel('epoch')\n",
    "plt.legend(['train', 'validation'], loc='upper left')\n",
    "plt.show()"
   ]
  },
  {
   "cell_type": "markdown",
   "metadata": {},
   "source": [
    "<h4>Perplexity </h4>\n"
   ]
  },
  {
   "cell_type": "markdown",
   "metadata": {},
   "source": [
    "In information theory, perplexity is a measurement of how well a probability distribution or probability model predicts a sample. It may be used to compare probability models. A low perplexity indicates the probability distribution is good at predicting the sample.\n",
    "\n",
    "<br><br>\n",
    "See the link for more details: \n",
    "https://towardsdatascience.com/perplexity-in-language-models-87a196019a94"
   ]
  },
  {
   "cell_type": "code",
   "execution_count": 66,
   "metadata": {},
   "outputs": [
    {
     "data": {
      "image/png": "[encoded data removed]",
      "text/plain": [
       "<Figure size 432x288 with 1 Axes>"
      ]
     },
     "metadata": {},
     "output_type": "display_data"
    }
   ],
   "source": [
    "# summarize history for perplexity\n",
    "plt.plot(history[2])\n",
    "plt.plot(history[3])\n",
    "plt.title('model perplexity')\n",
    "plt.ylabel('perplexity')\n",
    "plt.xlabel('epoch')\n",
    "plt.legend(['train', 'validation'], loc='upper left')\n",
    "plt.show()"
   ]
  },
  {
   "cell_type": "markdown",
   "metadata": {},
   "source": [
    "<h3> Attention Visualization </h3>"
   ]
  },
  {
   "cell_type": "markdown",
   "metadata": {},
   "source": [
    "Visualizing the attention is the best part of working with transformers,it helps us in understanding what part of the input the model is paying more attention to, it improves interpretability of Neural Networks significantly and also helps in debugging should any problem occur."
   ]
  },
  {
   "cell_type": "code",
   "execution_count": 67,
   "metadata": {},
   "outputs": [],
   "source": [
    "def display_attention(sentence, translation, attention, n_heads = 8, n_rows = 4, n_cols = 2):\n",
    "    \n",
    "    assert n_rows * n_cols == n_heads\n",
    "    \n",
    "    fig = plt.figure(figsize=(15,25))\n",
    "    \n",
    "    for i in range(n_heads):\n",
    "        \n",
    "        ax = fig.add_subplot(n_rows, n_cols, i+1)\n",
    "        \n",
    "        _attention = attention.squeeze(0)[i].cpu().detach().numpy()\n",
    "\n",
    "        cax = ax.matshow(_attention, cmap='bone')\n",
    "\n",
    "        ax.tick_params(labelsize=12)\n",
    "        ax.set_xticklabels(['']+['<sos>']+[t.lower() for t in sentence]+['<eos>'], \n",
    "                           rotation=45)\n",
    "        ax.set_yticklabels(['']+translation)\n",
    "\n",
    "        ax.xaxis.set_major_locator(ticker.MultipleLocator(1))\n",
    "        ax.yaxis.set_major_locator(ticker.MultipleLocator(1))\n",
    "\n",
    "    plt.show()\n",
    "    plt.close()"
   ]
  },
  {
   "cell_type": "markdown",
   "metadata": {},
   "source": [
    "We can see the attention from each head below. Each is certainly different, but it's difficult (perhaps impossible) to reason about what head has actually learned to pay attention to. Some heads pay full attention to \"eine\" when translating \"a\", some don't at all, and some do a little. They all seem to follow the similar \"downward staircase\" pattern and the attention when outputting the last two tokens is equally spread over the final two tokens in the input sentence."
   ]
  },
  {
   "cell_type": "code",
   "execution_count": 68,
   "metadata": {},
   "outputs": [
    {
     "name": "stdout",
     "output_type": "stream",
     "text": [
      "Time taken to translate 0.10600018501281738 seconds\n",
      "source = ['eine', 'frau', 'mit', 'einer', 'großen', 'geldbörse', 'geht', 'an', 'einem', 'tor', 'vorbei', '.']\n",
      "----------------------------------------------------------------------------------------------------\n",
      "target = ['a', 'woman', 'with', 'a', 'large', 'purse', 'is', 'walking', 'by', 'a', 'gate', '.']\n",
      "----------------------------------------------------------------------------------------------------\n",
      "translation = ['a', 'woman', 'with', 'a', 'large', 'purse', 'walking', 'past', 'a', 'gate', '.']\n",
      "----------------------------------------------------------------------------------------------------\n"
     ]
    },
    {
     "data": {
      "image/png": "[encoded data removed]",
      "text/plain": [
       "<Figure size 1080x1800 with 8 Axes>"
      ]
     },
     "metadata": {},
     "output_type": "display_data"
    }
   ],
   "source": [
    "example_idx = 8\n",
    "\n",
    "src = vars(train_data.examples[example_idx])['src']\n",
    "trg = vars(train_data.examples[example_idx])['trg']\n",
    "\n",
    "\n",
    "translation, attention =  translate_sentence(src,\n",
    "                                            source_process_pipeline,\n",
    "                                            target_process_pipeline,\n",
    "                                            spacy_german,\n",
    "                                            transformer_model,device,\n",
    "                                            max_length = 50,verbose = True)\n",
    "print(f'source = {src}')\n",
    "print('-'*100)\n",
    "print(f'target = {trg}')\n",
    "print('-'*100)\n",
    "print(f'translation = {translation}')\n",
    "print('-'*100)\n",
    "\n",
    "\n",
    "display_attention(src, translation, attention,n_heads = NUM_DECODER_ATTN_HEADS)"
   ]
  },
  {
   "cell_type": "code",
   "execution_count": 69,
   "metadata": {},
   "outputs": [
    {
     "name": "stdout",
     "output_type": "stream",
     "text": [
      "Time taken to translate 0.10097122192382812 seconds\n",
      "source = ['eine', 'frau', 'spielt', 'ein', 'lied', 'auf', 'ihrer', 'geige', '.']\n",
      "----------------------------------------------------------------------------------------------------\n",
      "target = ['a', 'female', 'playing', 'a', 'song', 'on', 'her', 'violin', '.']\n",
      "----------------------------------------------------------------------------------------------------\n",
      "translation = ['a', 'woman', 'is', 'playing', 'a', 'song', 'on', 'her', 'side', '.']\n",
      "----------------------------------------------------------------------------------------------------\n"
     ]
    },
    {
     "data": {
      "image/png": "[encoded data removed]",
      "text/plain": [
       "<Figure size 1080x1800 with 8 Axes>"
      ]
     },
     "metadata": {},
     "output_type": "display_data"
    }
   ],
   "source": [
    "example_idx = 14\n",
    "\n",
    "src = vars(validation_data.examples[example_idx])['src']\n",
    "trg = vars(validation_data.examples[example_idx])['trg']\n",
    "\n",
    "\n",
    "translation, attention =  translate_sentence(src,\n",
    "                                            source_process_pipeline,\n",
    "                                            target_process_pipeline,\n",
    "                                            spacy_german,\n",
    "                                            transformer_model,device,\n",
    "                                            max_length = 50,verbose = True)\n",
    "print(f'source = {src}')\n",
    "print('-'*100)\n",
    "print(f'target = {trg}')\n",
    "print('-'*100)\n",
    "print(f'translation = {translation}')\n",
    "print('-'*100)\n",
    "\n",
    "\n",
    "display_attention(src, translation, attention,n_heads = NUM_DECODER_ATTN_HEADS)"
   ]
  },
  {
   "cell_type": "markdown",
   "metadata": {},
   "source": [
    "# Performance on Test Data"
   ]
  },
  {
   "cell_type": "code",
   "execution_count": 70,
   "metadata": {},
   "outputs": [
    {
     "name": "stdout",
     "output_type": "stream",
     "text": [
      "Time taken to translate 0.0709984302520752 seconds\n",
      "source = ['ein', 'typ', 'arbeitet', 'an', 'einem', 'gebäude', '.']\n",
      "----------------------------------------------------------------------------------------------------\n",
      "target = ['a', 'guy', 'works', 'on', 'a', 'building', '.']\n",
      "----------------------------------------------------------------------------------------------------\n",
      "translation = ['a', 'guy', 'working', 'on', 'a', 'building', '.']\n",
      "----------------------------------------------------------------------------------------------------\n"
     ]
    },
    {
     "data": {
      "image/png": "[encoded data removed]",
      "text/plain": [
       "<Figure size 1080x1800 with 8 Axes>"
      ]
     },
     "metadata": {},
     "output_type": "display_data"
    }
   ],
   "source": [
    "example_idx = 8\n",
    "\n",
    "src = vars(test_data.examples[example_idx])['src']\n",
    "trg = vars(test_data.examples[example_idx])['trg']\n",
    "\n",
    "\n",
    "translation, attention =  translate_sentence(src,\n",
    "                                            source_process_pipeline,\n",
    "                                            target_process_pipeline,\n",
    "                                            spacy_german,\n",
    "                                            transformer_model,device,\n",
    "                                            max_length = 50,verbose = True)\n",
    "print(f'source = {src}')\n",
    "print('-'*100)\n",
    "print(f'target = {trg}')\n",
    "print('-'*100)\n",
    "print(f'translation = {translation}')\n",
    "print('-'*100)\n",
    "\n",
    "display_attention(src, translation, attention,n_heads = NUM_DECODER_ATTN_HEADS)"
   ]
  },
  {
   "cell_type": "code",
   "execution_count": 71,
   "metadata": {},
   "outputs": [
    {
     "name": "stdout",
     "output_type": "stream",
     "text": [
      "Time taken to translate 0.0989980697631836 seconds\n",
      "source = ['eine', 'teenagerin', 'spielt', 'bei', 'einem', 'spiel', 'trompete', 'auf', 'dem', 'feld', '.']\n",
      "----------------------------------------------------------------------------------------------------\n",
      "target = ['a', 'teenager', 'plays', 'her', 'trumpet', 'on', 'the', 'field', 'at', 'a', 'game', '.']\n",
      "----------------------------------------------------------------------------------------------------\n",
      "translation = ['a', 'teenage', 'girl', 'plays', 'a', 'trumpet', 'in', 'a', 'field', '.']\n",
      "----------------------------------------------------------------------------------------------------\n"
     ]
    },
    {
     "data": {
      "image/png": "[encoded data removed]",
      "text/plain": [
       "<Figure size 1080x1800 with 8 Axes>"
      ]
     },
     "metadata": {},
     "output_type": "display_data"
    }
   ],
   "source": [
    "example_idx = 21\n",
    "\n",
    "src = vars(test_data.examples[example_idx])['src']\n",
    "trg = vars(test_data.examples[example_idx])['trg']\n",
    "\n",
    "\n",
    "translation, attention =  translate_sentence(src,\n",
    "                                            source_process_pipeline,\n",
    "                                            target_process_pipeline,\n",
    "                                            spacy_german,\n",
    "                                            transformer_model,device,\n",
    "                                            max_length = 50,verbose = True)\n",
    "print(f'source = {src}')\n",
    "print('-'*100)\n",
    "print(f'target = {trg}')\n",
    "print('-'*100)\n",
    "print(f'translation = {translation}')\n",
    "print('-'*100)\n",
    "\n",
    "\n",
    "display_attention(src, translation, attention,n_heads = NUM_DECODER_ATTN_HEADS)"
   ]
  },
  {
   "cell_type": "markdown",
   "metadata": {},
   "source": [
    "<h3> BLEU Score </h3>"
   ]
  },
  {
   "cell_type": "markdown",
   "metadata": {},
   "source": [
    "Paper : https://www.aclweb.org/anthology/P02-1040.pdf <br>\n",
    "Library : https://pytorch.org/text/stable/data_metrics.html <br>"
   ]
  },
  {
   "cell_type": "markdown",
   "metadata": {},
   "source": [
    "The Bilingual Evaluation Understudy Score, or BLEU for short, is a metric for evaluating a generated sentence to a reference sentence. A perfect match results in a score of 100.0, whereas a perfect mismatch results in a score of 0.0.<br><br>\n",
    "Lets create a function which calculates the BLEU score for every epoch."
   ]
  },
  {
   "cell_type": "code",
   "execution_count": 72,
   "metadata": {},
   "outputs": [],
   "source": [
    "from torchtext.data.metrics import bleu_score\n",
    "\n",
    "def calculate_bleu(data,source_field, target_field,source_tokenizer,\n",
    "                       transformer_model,device, max_len = 50):\n",
    "    \n",
    "    transformer_model.eval()\n",
    "    target_tokens = []\n",
    "    predicted_tokens = []\n",
    "    \n",
    "    start = time()\n",
    "    with torch.no_grad():\n",
    "        \n",
    "        for item in tqdm(data):\n",
    "            \n",
    "            source = vars(item)['src']\n",
    "            target = vars(item)['trg']\n",
    "                \n",
    "            \n",
    "            predicted_sentence,attention = translate_sentence(source,\n",
    "                                                   source_field,target_field,\n",
    "                                                   source_tokenizer,\n",
    "                                                   transformer_model,device,\n",
    "                                                   max_length = 50,verbose = False)\n",
    "                \n",
    "            predicted_tokens.append(predicted_sentence)\n",
    "            target_tokens.append([target])\n",
    "            \n",
    "\n",
    "    return bleu_score(predicted_tokens, target_tokens)"
   ]
  },
  {
   "cell_type": "code",
   "execution_count": 73,
   "metadata": {},
   "outputs": [
    {
     "data": {
      "application/vnd.jupyter.widget-view+json": {
       "model_id": "332ff8191f1a4a98928636fcbeebb86c",
       "version_major": 2,
       "version_minor": 0
      },
      "text/plain": [
       "HBox(children=(FloatProgress(value=0.0, max=1000.0), HTML(value='')))"
      ]
     },
     "metadata": {},
     "output_type": "display_data"
    },
    {
     "name": "stdout",
     "output_type": "stream",
     "text": [
      "\n",
      "BLEU score on Test Data = 34.714582562446594\n"
     ]
    }
   ],
   "source": [
    "bleu_score = calculate_bleu(test_data,source_process_pipeline,\n",
    "                            target_process_pipeline,spacy_german,transformer_model,device, max_len = 50)\n",
    "\n",
    "\n",
    "print(f'BLEU score on Test Data = {bleu_score*100}')"
   ]
  },
  {
   "cell_type": "markdown",
   "metadata": {},
   "source": [
    "We acheived a perplexity of ~35 , which quite good, if we had trained the model on a significantly larger corpus, the results would have been even better."
   ]
  },
  {
   "cell_type": "markdown",
   "metadata": {},
   "source": [
    "<h3> Conclusion </h3>\n",
    "\n",
    "So, now we are done with the neccesary implementations, one can try out different ways of implementations some of which were skipped here like a scheduled learning rate with warmup and cooldown, and static positional encodings using a cosine function like discussed in the paper. Feel free to reach out and add any suggestions !!  "
   ]
  },
  {
   "cell_type": "markdown",
   "metadata": {},
   "source": [
    "<h2> References and Additional Readings </h2>"
   ]
  },
  {
   "cell_type": "markdown",
   "metadata": {},
   "source": [
    "[1] Attention is All You Need, Paper https://arxiv.org/pdf/1706.03762.pdf\n",
    "\n",
    "[2] The Illustrated Transformer by Jay Alamar, https://jalammar.github.io/illustrated-transformer/\n",
    "\n",
    "[3] What Does BERT Look At? An Analysis of BERT’s Attention,\n",
    "https://arxiv.org/pdf/1906.04341.pdf\n",
    "\n",
    "[4] Bertology, https://huggingface.co/transformers/bertology.html\n",
    "\n",
    "[5] The Annotated Transformer (PyTorch Implementation (some portions of the code might be obsolete now), http://nlp.seas.harvard.edu/2018/04/03/attention.html\n",
    "\n",
    "[6] BenTrevett and jadore, https://github.com/jadore801120/attention-is-all-you-need-pytorch\n",
    "\n",
    "[7] Advanced NLP, https://people.cs.umass.edu/~miyyer/cs685/"
   ]
  },
  {
   "cell_type": "code",
   "execution_count": null,
   "metadata": {},
   "outputs": [],
   "source": []
  }
 ],
 "metadata": {
  "kernelspec": {
   "display_name": "Python 3",
   "language": "python",
   "name": "python3"
  },
  "language_info": {
   "codemirror_mode": {
    "name": "ipython",
    "version": 3
   },
   "file_extension": ".py",
   "mimetype": "text/x-python",
   "name": "python",
   "nbconvert_exporter": "python",
   "pygments_lexer": "ipython3",
   "version": "3.7.7"
  }
 },
 "nbformat": 4,
 "nbformat_minor": 4
}
